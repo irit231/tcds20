{
 "cells": [
  {
   "cell_type": "markdown",
   "metadata": {},
   "source": [
    "# Wines Points prediction "
   ]
  },
  {
   "cell_type": "code",
   "execution_count": 3,
   "metadata": {},
   "outputs": [
    {
     "name": "stdout",
     "output_type": "stream",
     "text": [
      "The autoreload extension is already loaded. To reload it, use:\n",
      "  %reload_ext autoreload\n"
     ]
    }
   ],
   "source": [
    "%load_ext autoreload\n",
    "%autoreload 2\n",
    "import sys; sys.path.append('../')"
   ]
  },
  {
   "cell_type": "markdown",
   "metadata": {},
   "source": [
    "Here we will try to predict the points a wine will get based on known characteristics (i.e. features, in the ML terminology). The mine point in this stage is to establish a simple, ideally super cost effective, basline.\n",
    "In the real world there is a tradeoff between complexity and perforamnce, and the DS job, among others, is to present a tradeoff tables of what performance is achivalbel at what complexity level. \n",
    "\n",
    "to which models with increased complexity and resource demands will be compared. Complexity should then be translated into cost. For example:\n",
    " * Compute cost \n",
    " * Maintenance cost\n",
    " * Serving costs (i.e. is new platform needed?) \n",
    " "
   ]
  },
  {
   "cell_type": "markdown",
   "metadata": {},
   "source": [
    "## Loading the data"
   ]
  },
  {
   "cell_type": "code",
   "execution_count": 1,
   "metadata": {},
   "outputs": [
    {
     "data": {
      "text/html": [
       "        <script type=\"text/javascript\">\n",
       "        window.PlotlyConfig = {MathJaxConfig: 'local'};\n",
       "        if (window.MathJax && window.MathJax.Hub && window.MathJax.Hub.Config) {window.MathJax.Hub.Config({SVG: {font: \"STIX-Web\"}});}\n",
       "        if (typeof require !== 'undefined') {\n",
       "        require.undef(\"plotly\");\n",
       "        requirejs.config({\n",
       "            paths: {\n",
       "                'plotly': ['https://cdn.plot.ly/plotly-2.12.1.min']\n",
       "            }\n",
       "        });\n",
       "        require(['plotly'], function(Plotly) {\n",
       "            window._Plotly = Plotly;\n",
       "        });\n",
       "        }\n",
       "        </script>\n",
       "        "
      ]
     },
     "metadata": {},
     "output_type": "display_data"
    }
   ],
   "source": [
    "import pandas as pd\n",
    "import cufflinks as cf; cf.go_offline()"
   ]
  },
  {
   "cell_type": "code",
   "execution_count": 2,
   "metadata": {},
   "outputs": [
    {
     "data": {
      "text/plain": [
       "(129971, 14)"
      ]
     },
     "execution_count": 2,
     "metadata": {},
     "output_type": "execute_result"
    }
   ],
   "source": [
    "wine_reviews = pd.read_csv(\"C:\\\\Users\\\\eranb\\Python_ML_2023\\\\data\\\\winemag-data-130k-v2.csv\")\n",
    "wine_reviews.shape\n"
   ]
  },
  {
   "cell_type": "code",
   "execution_count": 64,
   "metadata": {},
   "outputs": [],
   "source": [
    "#wine_reviews.head()"
   ]
  },
  {
   "cell_type": "code",
   "execution_count": 3,
   "metadata": {},
   "outputs": [],
   "source": [
    "wine_reviews1=wine_reviews.drop(['taster_twitter_handle','title','region_1','region_2'], axis=1)\n"
   ]
  },
  {
   "cell_type": "code",
   "execution_count": 69,
   "metadata": {},
   "outputs": [],
   "source": [
    "#wine_reviews1.points.value_counts().sort_index()"
   ]
  },
  {
   "cell_type": "code",
   "execution_count": 4,
   "metadata": {},
   "outputs": [
    {
     "data": {
      "text/html": [
       "<div>\n",
       "<style scoped>\n",
       "    .dataframe tbody tr th:only-of-type {\n",
       "        vertical-align: middle;\n",
       "    }\n",
       "\n",
       "    .dataframe tbody tr th {\n",
       "        vertical-align: top;\n",
       "    }\n",
       "\n",
       "    .dataframe thead th {\n",
       "        text-align: right;\n",
       "    }\n",
       "</style>\n",
       "<table border=\"1\" class=\"dataframe\">\n",
       "  <thead>\n",
       "    <tr style=\"text-align: right;\">\n",
       "      <th></th>\n",
       "      <th>Unnamed: 0</th>\n",
       "      <th>country</th>\n",
       "      <th>description</th>\n",
       "      <th>designation</th>\n",
       "      <th>points</th>\n",
       "      <th>price</th>\n",
       "      <th>province</th>\n",
       "      <th>taster_name</th>\n",
       "      <th>variety</th>\n",
       "      <th>winery</th>\n",
       "    </tr>\n",
       "  </thead>\n",
       "  <tbody>\n",
       "    <tr>\n",
       "      <th>1</th>\n",
       "      <td>1</td>\n",
       "      <td>Portugal</td>\n",
       "      <td>This is ripe and fruity, a wine that is smooth...</td>\n",
       "      <td>Avidagos</td>\n",
       "      <td>87</td>\n",
       "      <td>15.0</td>\n",
       "      <td>Douro</td>\n",
       "      <td>Roger Voss</td>\n",
       "      <td>Portuguese Red</td>\n",
       "      <td>Quinta dos Avidagos</td>\n",
       "    </tr>\n",
       "    <tr>\n",
       "      <th>3</th>\n",
       "      <td>3</td>\n",
       "      <td>US</td>\n",
       "      <td>Pineapple rind, lemon pith and orange blossom ...</td>\n",
       "      <td>Reserve Late Harvest</td>\n",
       "      <td>87</td>\n",
       "      <td>13.0</td>\n",
       "      <td>Michigan</td>\n",
       "      <td>Alexander Peartree</td>\n",
       "      <td>Riesling</td>\n",
       "      <td>St. Julian</td>\n",
       "    </tr>\n",
       "    <tr>\n",
       "      <th>4</th>\n",
       "      <td>4</td>\n",
       "      <td>US</td>\n",
       "      <td>Much like the regular bottling from 2012, this...</td>\n",
       "      <td>Vintner's Reserve Wild Child Block</td>\n",
       "      <td>87</td>\n",
       "      <td>65.0</td>\n",
       "      <td>Oregon</td>\n",
       "      <td>Paul Gregutt</td>\n",
       "      <td>Pinot Noir</td>\n",
       "      <td>Sweet Cheeks</td>\n",
       "    </tr>\n",
       "    <tr>\n",
       "      <th>5</th>\n",
       "      <td>5</td>\n",
       "      <td>Spain</td>\n",
       "      <td>Blackberry and raspberry aromas show a typical...</td>\n",
       "      <td>Ars In Vitro</td>\n",
       "      <td>87</td>\n",
       "      <td>15.0</td>\n",
       "      <td>Northern Spain</td>\n",
       "      <td>Michael Schachner</td>\n",
       "      <td>Tempranillo-Merlot</td>\n",
       "      <td>Tandem</td>\n",
       "    </tr>\n",
       "    <tr>\n",
       "      <th>6</th>\n",
       "      <td>6</td>\n",
       "      <td>Italy</td>\n",
       "      <td>Here's a bright, informal red that opens with ...</td>\n",
       "      <td>Belsito</td>\n",
       "      <td>87</td>\n",
       "      <td>16.0</td>\n",
       "      <td>Sicily &amp; Sardinia</td>\n",
       "      <td>Kerin O’Keefe</td>\n",
       "      <td>Frappato</td>\n",
       "      <td>Terre di Giurfo</td>\n",
       "    </tr>\n",
       "  </tbody>\n",
       "</table>\n",
       "</div>"
      ],
      "text/plain": [
       "   Unnamed: 0   country                                        description  \\\n",
       "1           1  Portugal  This is ripe and fruity, a wine that is smooth...   \n",
       "3           3        US  Pineapple rind, lemon pith and orange blossom ...   \n",
       "4           4        US  Much like the regular bottling from 2012, this...   \n",
       "5           5     Spain  Blackberry and raspberry aromas show a typical...   \n",
       "6           6     Italy  Here's a bright, informal red that opens with ...   \n",
       "\n",
       "                          designation  points  price           province  \\\n",
       "1                            Avidagos      87   15.0              Douro   \n",
       "3                Reserve Late Harvest      87   13.0           Michigan   \n",
       "4  Vintner's Reserve Wild Child Block      87   65.0             Oregon   \n",
       "5                        Ars In Vitro      87   15.0     Northern Spain   \n",
       "6                             Belsito      87   16.0  Sicily & Sardinia   \n",
       "\n",
       "          taster_name             variety               winery  \n",
       "1          Roger Voss      Portuguese Red  Quinta dos Avidagos  \n",
       "3  Alexander Peartree            Riesling           St. Julian  \n",
       "4        Paul Gregutt          Pinot Noir         Sweet Cheeks  \n",
       "5   Michael Schachner  Tempranillo-Merlot               Tandem  \n",
       "6       Kerin O’Keefe            Frappato      Terre di Giurfo  "
      ]
     },
     "execution_count": 4,
     "metadata": {},
     "output_type": "execute_result"
    }
   ],
   "source": [
    "wine_reviews1.dropna(subset=['price'], inplace=True)\n",
    "wine_reviews1.dropna(subset=['designation'], inplace=True)\n",
    "wine_reviews1.dropna(subset=['province'], inplace=True)\n",
    "wine_reviews1.dropna(subset=['variety'], inplace=True)\n",
    "wine_reviews1.head()"
   ]
  },
  {
   "cell_type": "code",
   "execution_count": 5,
   "metadata": {},
   "outputs": [
    {
     "data": {
      "text/plain": [
       "(86148, 9)"
      ]
     },
     "execution_count": 5,
     "metadata": {},
     "output_type": "execute_result"
    }
   ],
   "source": [
    "#no taster at all\n",
    "wine_reviews12=wine_reviews1.drop(['taster_name'], axis=1)\n",
    "wine_reviews12.shape\n"
   ]
  },
  {
   "cell_type": "code",
   "execution_count": 7,
   "metadata": {
    "tags": []
   },
   "outputs": [
    {
     "data": {
      "text/plain": [
       "(69919, 10)"
      ]
     },
     "execution_count": 7,
     "metadata": {},
     "output_type": "execute_result"
    }
   ],
   "source": [
    "#no na taster \n",
    "wine_reviews11=wine_reviews1.dropna(subset=['taster_name'])\n",
    "\n",
    "wine_reviews11.shape\n"
   ]
  },
  {
   "cell_type": "code",
   "execution_count": 9,
   "metadata": {},
   "outputs": [
    {
     "data": {
      "text/plain": [
       "Unnamed: 0     0\n",
       "country        0\n",
       "description    0\n",
       "designation    0\n",
       "points         0\n",
       "price          0\n",
       "province       0\n",
       "taster_name    0\n",
       "variety        0\n",
       "winery         0\n",
       "dtype: int64"
      ]
     },
     "execution_count": 9,
     "metadata": {},
     "output_type": "execute_result"
    }
   ],
   "source": [
    "wine_reviews11.isna().sum()"
   ]
  },
  {
   "cell_type": "code",
   "execution_count": null,
   "metadata": {},
   "outputs": [],
   "source": [
    "#import pandas as pd\n",
    "#import matplotlib.pyplot as plt\n",
    "\n",
    "# Assuming the DataFrame is already loaded and named wine_reviews1\n",
    "\n",
    "# Calculate the average points for each taster\n",
    "#average_points = wine_reviews1.groupby('taster_name')['points'].mean()\n",
    "\n",
    "# Create the graph\n",
    "#plt.figure(figsize=(10, 6))\n",
    "#average_points.plot(kind='bar')\n",
    "#plt.xlabel('Taster Name')\n",
    "#plt.ylabel('Average Points')\n",
    "#plt.title('Average Points by Taster')\n",
    "#plt.xticks(rotation=45)\n",
    "#plt.ylim(80, 100)\n",
    "#plt.show()"
   ]
  },
  {
   "cell_type": "code",
   "execution_count": 8,
   "metadata": {},
   "outputs": [
    {
     "data": {
      "text/html": [
       "<div>\n",
       "<style scoped>\n",
       "    .dataframe tbody tr th:only-of-type {\n",
       "        vertical-align: middle;\n",
       "    }\n",
       "\n",
       "    .dataframe tbody tr th {\n",
       "        vertical-align: top;\n",
       "    }\n",
       "\n",
       "    .dataframe thead th {\n",
       "        text-align: right;\n",
       "    }\n",
       "</style>\n",
       "<table border=\"1\" class=\"dataframe\">\n",
       "  <thead>\n",
       "    <tr style=\"text-align: right;\">\n",
       "      <th></th>\n",
       "      <th>Unnamed: 0</th>\n",
       "      <th>country</th>\n",
       "      <th>description</th>\n",
       "      <th>designation</th>\n",
       "      <th>points</th>\n",
       "      <th>price</th>\n",
       "      <th>province</th>\n",
       "      <th>taster_name</th>\n",
       "      <th>variety</th>\n",
       "      <th>winery</th>\n",
       "    </tr>\n",
       "  </thead>\n",
       "  <tbody>\n",
       "    <tr>\n",
       "      <th>41793</th>\n",
       "      <td>41793</td>\n",
       "      <td>France</td>\n",
       "      <td>Ripe notes of juicy yellow-pear waft from the ...</td>\n",
       "      <td>W3</td>\n",
       "      <td>89</td>\n",
       "      <td>15.0</td>\n",
       "      <td>Alsace</td>\n",
       "      <td>Anne Krebiehl MW</td>\n",
       "      <td>Alsace white blend</td>\n",
       "      <td>Wolfberger</td>\n",
       "    </tr>\n",
       "    <tr>\n",
       "      <th>78551</th>\n",
       "      <td>78551</td>\n",
       "      <td>US</td>\n",
       "      <td>Minty, camphor-like aromas arise off of this b...</td>\n",
       "      <td>Camp 4 Vineyard</td>\n",
       "      <td>87</td>\n",
       "      <td>40.0</td>\n",
       "      <td>California</td>\n",
       "      <td>Matt Kettmann</td>\n",
       "      <td>Cabernet Sauvignon</td>\n",
       "      <td>Kitá</td>\n",
       "    </tr>\n",
       "    <tr>\n",
       "      <th>106909</th>\n",
       "      <td>106909</td>\n",
       "      <td>Chile</td>\n",
       "      <td>Reduced gritty foresty aromas revolve around h...</td>\n",
       "      <td>Reserva Especial</td>\n",
       "      <td>87</td>\n",
       "      <td>19.0</td>\n",
       "      <td>Limarí Valley</td>\n",
       "      <td>Michael Schachner</td>\n",
       "      <td>Cabernet Franc</td>\n",
       "      <td>Viña Tabalí</td>\n",
       "    </tr>\n",
       "    <tr>\n",
       "      <th>51492</th>\n",
       "      <td>51492</td>\n",
       "      <td>Italy</td>\n",
       "      <td>Espresso, roasted coffee bean, plum and toaste...</td>\n",
       "      <td>Prapò</td>\n",
       "      <td>91</td>\n",
       "      <td>110.0</td>\n",
       "      <td>Piedmont</td>\n",
       "      <td>Kerin O’Keefe</td>\n",
       "      <td>Nebbiolo</td>\n",
       "      <td>Ceretto</td>\n",
       "    </tr>\n",
       "    <tr>\n",
       "      <th>125</th>\n",
       "      <td>125</td>\n",
       "      <td>South Africa</td>\n",
       "      <td>Etienne Le Riche is a total Cabernet specialis...</td>\n",
       "      <td>Cabernet Sauvignon Reserve</td>\n",
       "      <td>91</td>\n",
       "      <td>45.0</td>\n",
       "      <td>Stellenbosch</td>\n",
       "      <td>Roger Voss</td>\n",
       "      <td>Cabernet Sauvignon</td>\n",
       "      <td>Le Riche</td>\n",
       "    </tr>\n",
       "  </tbody>\n",
       "</table>\n",
       "</div>"
      ],
      "text/plain": [
       "        Unnamed: 0       country  \\\n",
       "41793        41793        France   \n",
       "78551        78551            US   \n",
       "106909      106909         Chile   \n",
       "51492        51492         Italy   \n",
       "125            125  South Africa   \n",
       "\n",
       "                                              description  \\\n",
       "41793   Ripe notes of juicy yellow-pear waft from the ...   \n",
       "78551   Minty, camphor-like aromas arise off of this b...   \n",
       "106909  Reduced gritty foresty aromas revolve around h...   \n",
       "51492   Espresso, roasted coffee bean, plum and toaste...   \n",
       "125     Etienne Le Riche is a total Cabernet specialis...   \n",
       "\n",
       "                       designation  points  price       province  \\\n",
       "41793                           W3      89   15.0         Alsace   \n",
       "78551              Camp 4 Vineyard      87   40.0     California   \n",
       "106909            Reserva Especial      87   19.0  Limarí Valley   \n",
       "51492                        Prapò      91  110.0       Piedmont   \n",
       "125     Cabernet Sauvignon Reserve      91   45.0   Stellenbosch   \n",
       "\n",
       "              taster_name             variety       winery  \n",
       "41793    Anne Krebiehl MW  Alsace white blend   Wolfberger  \n",
       "78551       Matt Kettmann  Cabernet Sauvignon         Kitá  \n",
       "106909  Michael Schachner      Cabernet Franc  Viña Tabalí  \n",
       "51492       Kerin O’Keefe            Nebbiolo      Ceretto  \n",
       "125            Roger Voss  Cabernet Sauvignon     Le Riche  "
      ]
     },
     "execution_count": 8,
     "metadata": {},
     "output_type": "execute_result"
    }
   ],
   "source": [
    "wine_reviews11.sample(5)"
   ]
  },
  {
   "cell_type": "code",
   "execution_count": 9,
   "metadata": {},
   "outputs": [],
   "source": [
    "wine_reviews111=wine_reviews11.drop(['Unnamed: 0'], axis=1)"
   ]
  },
  {
   "cell_type": "code",
   "execution_count": 13,
   "metadata": {},
   "outputs": [
    {
     "data": {
      "text/html": [
       "<div>\n",
       "<style scoped>\n",
       "    .dataframe tbody tr th:only-of-type {\n",
       "        vertical-align: middle;\n",
       "    }\n",
       "\n",
       "    .dataframe tbody tr th {\n",
       "        vertical-align: top;\n",
       "    }\n",
       "\n",
       "    .dataframe thead th {\n",
       "        text-align: right;\n",
       "    }\n",
       "</style>\n",
       "<table border=\"1\" class=\"dataframe\">\n",
       "  <thead>\n",
       "    <tr style=\"text-align: right;\">\n",
       "      <th></th>\n",
       "      <th>country</th>\n",
       "      <th>description</th>\n",
       "      <th>designation</th>\n",
       "      <th>points</th>\n",
       "      <th>price</th>\n",
       "      <th>province</th>\n",
       "      <th>taster_name</th>\n",
       "      <th>variety</th>\n",
       "      <th>winery</th>\n",
       "    </tr>\n",
       "  </thead>\n",
       "  <tbody>\n",
       "    <tr>\n",
       "      <th>7387</th>\n",
       "      <td>Australia</td>\n",
       "      <td>The 2008 Brookman Syrah is a rich, plush, luxu...</td>\n",
       "      <td>Brookman</td>\n",
       "      <td>92</td>\n",
       "      <td>75.0</td>\n",
       "      <td>South Australia</td>\n",
       "      <td>Joe Czerwinski</td>\n",
       "      <td>Syrah</td>\n",
       "      <td>Clarendon Hills</td>\n",
       "    </tr>\n",
       "    <tr>\n",
       "      <th>84251</th>\n",
       "      <td>US</td>\n",
       "      <td>This is the producer's longstanding ode to his...</td>\n",
       "      <td>Orion Rossi Vineyard California Native</td>\n",
       "      <td>93</td>\n",
       "      <td>120.0</td>\n",
       "      <td>California</td>\n",
       "      <td>Virginie Boone</td>\n",
       "      <td>Red Blend</td>\n",
       "      <td>Sean Thackrey</td>\n",
       "    </tr>\n",
       "    <tr>\n",
       "      <th>125687</th>\n",
       "      <td>US</td>\n",
       "      <td>Carl Bowker makes some excellent wines from hi...</td>\n",
       "      <td>Kissin' Cousins</td>\n",
       "      <td>86</td>\n",
       "      <td>28.0</td>\n",
       "      <td>California</td>\n",
       "      <td>Matt Kettmann</td>\n",
       "      <td>Rhône-style White Blend</td>\n",
       "      <td>Caliza</td>\n",
       "    </tr>\n",
       "  </tbody>\n",
       "</table>\n",
       "</div>"
      ],
      "text/plain": [
       "          country                                        description   \n",
       "7387    Australia  The 2008 Brookman Syrah is a rich, plush, luxu...  \\\n",
       "84251          US  This is the producer's longstanding ode to his...   \n",
       "125687         US  Carl Bowker makes some excellent wines from hi...   \n",
       "\n",
       "                                   designation  points  price   \n",
       "7387                                  Brookman      92   75.0  \\\n",
       "84251   Orion Rossi Vineyard California Native      93  120.0   \n",
       "125687                         Kissin' Cousins      86   28.0   \n",
       "\n",
       "               province     taster_name                  variety   \n",
       "7387    South Australia  Joe Czerwinski                    Syrah  \\\n",
       "84251        California  Virginie Boone                Red Blend   \n",
       "125687       California   Matt Kettmann  Rhône-style White Blend   \n",
       "\n",
       "                 winery  \n",
       "7387    Clarendon Hills  \n",
       "84251     Sean Thackrey  \n",
       "125687           Caliza  "
      ]
     },
     "execution_count": 13,
     "metadata": {},
     "output_type": "execute_result"
    }
   ],
   "source": [
    "wine_reviews111.sample(3)"
   ]
  },
  {
   "cell_type": "code",
   "execution_count": 1,
   "metadata": {},
   "outputs": [],
   "source": [
    "from tensorflow.keras.models import Model\n",
    "from tensorflow.keras.layers import Input, Dense, Embedding, Concatenate, Flatten\n",
    "from tensorflow.keras.optimizers import Adam\n",
    "from tensorflow.keras.metrics import Accuracy\n",
    "from tensorflow.keras.losses import BinaryCrossentropy\n",
    "from tensorflow.keras.utils import to_categorical, plot_model\n",
    "from sklearn.model_selection import train_test_split\n",
    "from sklearn.preprocessing import StandardScaler\n",
    "import numpy as np\n",
    "import pandas as pd"
   ]
  },
  {
   "cell_type": "code",
   "execution_count": 2,
   "metadata": {},
   "outputs": [],
   "source": [
    "import pandas as pd\n",
    "import numpy as np\n",
    "import tensorflow as tf\n",
    "from tensorflow.keras.models import Sequential\n",
    "from tensorflow.keras.layers import Dense, Embedding, LSTM, SpatialDropout1D\n",
    "from tensorflow.keras.preprocessing.text import Tokenizer\n",
    "from tensorflow.keras.preprocessing.sequence import pad_sequences\n",
    "from sklearn.model_selection import train_test_split"
   ]
  },
  {
   "cell_type": "code",
   "execution_count": 14,
   "metadata": {},
   "outputs": [],
   "source": [
    "\n",
    "data = wine_reviews111\n",
    "\n",
    "X = data['description']\n",
    "y = data['points']\n",
    "\n",
    "max_words = 1000\n",
    "tokenizer = Tokenizer(num_words=max_words, split=' ')\n",
    "tokenizer.fit_on_texts(X)\n",
    "X = tokenizer.texts_to_sequences(X)\n",
    "X = pad_sequences(X)\n",
    "\n",
    "X_train, X_test, y_train, y_test = train_test_split(X, y, test_size=0.2, random_state=42)"
   ]
  },
  {
   "cell_type": "code",
   "execution_count": 15,
   "metadata": {},
   "outputs": [
    {
     "name": "stdout",
     "output_type": "stream",
     "text": [
      "Epoch 1/10\n",
      "1748/1748 [==============================] - 175s 99ms/step - loss: 835.5547 - mse: 835.5547 - val_loss: 8.8486 - val_mse: 8.8486\n",
      "Epoch 2/10\n",
      "1748/1748 [==============================] - 179s 102ms/step - loss: 8.8222 - mse: 8.8222 - val_loss: 8.8282 - val_mse: 8.8282\n",
      "Epoch 3/10\n",
      "1748/1748 [==============================] - 181s 103ms/step - loss: 8.3591 - mse: 8.3591 - val_loss: 7.8219 - val_mse: 7.8219\n",
      "Epoch 4/10\n",
      "1748/1748 [==============================] - 182s 104ms/step - loss: 7.4777 - mse: 7.4777 - val_loss: 6.8746 - val_mse: 6.8746\n",
      "Epoch 5/10\n",
      "1748/1748 [==============================] - 182s 104ms/step - loss: 4.5624 - mse: 4.5624 - val_loss: 3.7932 - val_mse: 3.7932\n",
      "Epoch 6/10\n",
      "1748/1748 [==============================] - 183s 105ms/step - loss: 3.7016 - mse: 3.7016 - val_loss: 3.5061 - val_mse: 3.5061\n",
      "Epoch 7/10\n",
      "1748/1748 [==============================] - 182s 104ms/step - loss: 3.5376 - mse: 3.5376 - val_loss: 4.1595 - val_mse: 4.1595\n",
      "Epoch 8/10\n",
      "1748/1748 [==============================] - 182s 104ms/step - loss: 3.4500 - mse: 3.4500 - val_loss: 3.3224 - val_mse: 3.3224\n",
      "Epoch 9/10\n",
      "1748/1748 [==============================] - 183s 105ms/step - loss: 3.3981 - mse: 3.3981 - val_loss: 3.2491 - val_mse: 3.2491\n",
      "Epoch 10/10\n",
      "1748/1748 [==============================] - 183s 105ms/step - loss: 3.3616 - mse: 3.3616 - val_loss: 3.2936 - val_mse: 3.2936\n"
     ]
    },
    {
     "data": {
      "text/plain": [
       "<keras.callbacks.History at 0x2be715c27f0>"
      ]
     },
     "execution_count": 15,
     "metadata": {},
     "output_type": "execute_result"
    }
   ],
   "source": [
    "model = Sequential()\n",
    "model.add(Embedding(max_words, 128, input_length=X.shape[1]))\n",
    "model.add(SpatialDropout1D(0.4))\n",
    "model.add(LSTM(128, dropout=0.4, recurrent_dropout=0.4))\n",
    "model.add(Dense(1, activation='linear'))\n",
    "model.compile(loss='mean_squared_error', optimizer='adam', metrics=['mse'])\n",
    "\n",
    "epochs = 10\n",
    "batch_size = 32\n",
    "model.fit(X_train, y_train, epochs=epochs, batch_size=batch_size, validation_data=(X_test, y_test))"
   ]
  },
  {
   "cell_type": "code",
   "execution_count": 17,
   "metadata": {},
   "outputs": [
    {
     "name": "stdout",
     "output_type": "stream",
     "text": [
      "437/437 [==============================] - 7s 16ms/step\n",
      "[[89.95739]\n",
      " [86.25712]\n",
      " [88.70486]\n",
      " ...\n",
      " [89.96043]\n",
      " [92.00674]\n",
      " [89.11213]]\n"
     ]
    }
   ],
   "source": [
    "y_pred = model.predict(X_test)\n",
    "\n",
    "\n",
    "print(y_pred)"
   ]
  },
  {
   "cell_type": "code",
   "execution_count": 18,
   "metadata": {},
   "outputs": [
    {
     "name": "stdout",
     "output_type": "stream",
     "text": [
      "MSE: 3.29362335378406\n",
      "RMSE: 1.8148342496724212\n",
      "MAE: 1.425987304211754\n"
     ]
    }
   ],
   "source": [
    "from sklearn.metrics import mean_squared_error, mean_absolute_error\n",
    "\n",
    "mse = mean_squared_error(y_test, y_pred)\n",
    "\n",
    "rmse = np.sqrt(mse)\n",
    "\n",
    "mae = mean_absolute_error(y_test, y_pred)\n",
    "\n",
    "print(\"MSE:\", mse)\n",
    "print(\"RMSE:\", rmse)\n",
    "print(\"MAE:\", mae)"
   ]
  },
  {
   "cell_type": "code",
   "execution_count": null,
   "metadata": {},
   "outputs": [],
   "source": [
    "#MSE: 3.29362335378406\n",
    "#RMSE: 1.8148342496724212\n",
    "#MAE: 1.425987304211754"
   ]
  },
  {
   "cell_type": "code",
   "execution_count": 20,
   "metadata": {},
   "outputs": [],
   "source": [
    "from tensorflow.keras.models import Model\n",
    "from tensorflow.keras.layers import Input, Dense, Embedding, Concatenate, Flatten\n",
    "from tensorflow.keras.optimizers import Adam\n",
    "from tensorflow.keras.metrics import Accuracy\n",
    "from tensorflow.keras.losses import BinaryCrossentropy\n",
    "from tensorflow.keras.utils import to_categorical, plot_model\n",
    "from sklearn.model_selection import train_test_split\n",
    "from sklearn.preprocessing import StandardScaler\n",
    "import numpy as np\n",
    "import pandas as pd"
   ]
  },
  {
   "cell_type": "code",
   "execution_count": 22,
   "metadata": {},
   "outputs": [
    {
     "name": "stdout",
     "output_type": "stream",
     "text": [
      "Epoch 1/10\n",
      "1399/1399 [==============================] - 42s 30ms/step - loss: 11413.2842 - val_loss: 39.5631\n",
      "Epoch 2/10\n",
      "1399/1399 [==============================] - 42s 30ms/step - loss: 32.7621 - val_loss: 38.0451\n",
      "Epoch 3/10\n",
      "1399/1399 [==============================] - 41s 29ms/step - loss: 33.0036 - val_loss: 180.8522\n",
      "Epoch 4/10\n",
      "1399/1399 [==============================] - 41s 30ms/step - loss: 53.3116 - val_loss: 9.1825\n",
      "Epoch 5/10\n",
      "1399/1399 [==============================] - 42s 30ms/step - loss: 12.6884 - val_loss: 10.5878\n",
      "Epoch 6/10\n",
      "1399/1399 [==============================] - 41s 30ms/step - loss: 29.9118 - val_loss: 25.4585\n",
      "Epoch 7/10\n",
      "1399/1399 [==============================] - 41s 29ms/step - loss: 21.1248 - val_loss: 85.5089\n",
      "Epoch 8/10\n",
      "1399/1399 [==============================] - 42s 30ms/step - loss: 27.5867 - val_loss: 6.3963\n",
      "Epoch 9/10\n",
      "1399/1399 [==============================] - 41s 30ms/step - loss: 16.8163 - val_loss: 6.1779\n",
      "Epoch 10/10\n",
      "1399/1399 [==============================] - 42s 30ms/step - loss: 17.4109 - val_loss: 9.9419\n",
      "437/437 [==============================] - 1s 2ms/step - loss: 10.1270\n",
      "Mean Squared Error: 10.127038955688477\n"
     ]
    }
   ],
   "source": [
    "import pandas as pd\n",
    "import numpy as np\n",
    "from sklearn.model_selection import train_test_split\n",
    "from sklearn.preprocessing import LabelEncoder\n",
    "from tensorflow.keras.models import Sequential\n",
    "from tensorflow.keras.layers import Dense, Embedding, Flatten, Concatenate\n",
    "from tensorflow.keras.preprocessing.text import Tokenizer\n",
    "from tensorflow.keras.preprocessing.sequence import pad_sequences\n",
    "\n",
    "data = wine_reviews111\n",
    "description_max_length = 100  \n",
    "tokenizer = Tokenizer()\n",
    "tokenizer.fit_on_texts(data['description'])\n",
    "sequences = tokenizer.texts_to_sequences(data['description'])\n",
    "description_data = pad_sequences(sequences, maxlen=description_max_length)\n",
    "target = data['points']\n",
    "\n",
    "label_encoders = {}\n",
    "categorical_columns = ['country', 'designation', 'province', 'taster_name', 'variety', 'winery']\n",
    "for column in categorical_columns:\n",
    "    label_encoders[column] = LabelEncoder()\n",
    "    data[column] = label_encoders[column].fit_transform(data[column])\n",
    "\n",
    "categorical_data = data[categorical_columns].values\n",
    "\n",
    "X_train_desc, X_test_desc, X_train_cat, X_test_cat, y_train, y_test = train_test_split(\n",
    "    description_data, categorical_data, target, test_size=0.2, random_state=42)\n",
    "\n",
    "embedding_dim = 100\n",
    "vocab_size = len(tokenizer.word_index) + 1\n",
    "\n",
    "model = Sequential()\n",
    "model.add(Embedding(vocab_size, embedding_dim, input_length=description_max_length))\n",
    "model.add(Flatten())\n",
    "model.add(Dense(64, activation='relu'))\n",
    "model.add(Dense(32, activation='relu'))\n",
    "\n",
    "model_cat = Sequential()\n",
    "model_cat.add(Dense(16, activation='relu', input_shape=(len(categorical_columns),)))\n",
    "\n",
    "combined_model = Concatenate()([model.output, model_cat.output])\n",
    "combined_model = Dense(32, activation='relu')(combined_model)\n",
    "combined_model = Dense(1, activation='linear')(combined_model)\n",
    "\n",
    "final_model = Model(inputs=[model.input, model_cat.input], outputs=combined_model)\n",
    "\n",
    "final_model.compile(loss='mean_squared_error', optimizer='adam')\n",
    "final_model.fit([X_train_desc, X_train_cat], y_train, epochs=10, batch_size=32, validation_split=0.2)\n",
    "\n",
    "loss = final_model.evaluate([X_test_desc, X_test_cat], y_test)\n",
    "print('Mean Squared Error:', loss)\n"
   ]
  },
  {
   "cell_type": "code",
   "execution_count": null,
   "metadata": {},
   "outputs": [],
   "source": []
  }
 ],
 "metadata": {
  "kernelspec": {
   "display_name": "Python [conda env:python_ml_2023]",
   "language": "python",
   "name": "python_ml_2023"
  },
  "language_info": {
   "codemirror_mode": {
    "name": "ipython",
    "version": 3
   },
   "file_extension": ".py",
   "mimetype": "text/x-python",
   "name": "python",
   "nbconvert_exporter": "python",
   "pygments_lexer": "ipython3",
   "version": "3.9.13"
  }
 },
 "nbformat": 4,
 "nbformat_minor": 4
}
