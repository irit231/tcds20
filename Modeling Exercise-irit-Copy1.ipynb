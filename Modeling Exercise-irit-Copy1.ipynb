{
 "cells": [
  {
   "cell_type": "markdown",
   "id": "05bb7c4c-452a-408f-ac26-b184f1e10862",
   "metadata": {},
   "source": [
    "# Modeling exercise"
   ]
  },
  {
   "cell_type": "markdown",
   "id": "38dbae80-7f28-4596-945e-a0784e384e4c",
   "metadata": {},
   "source": [
    "## General Instructions"
   ]
  },
  {
   "cell_type": "markdown",
   "id": "a5650156-42a5-4fb7-b74a-dec08bafd6c1",
   "metadata": {},
   "source": [
    "* Submission date: 4.5.2023\n",
    "* Submission Method: Link to your solution notebook in [this sheet](https://docs.google.com/spreadsheets/d/1GNPESGIhJpPb7LwMAyjF5qpJfZQak_mLkE3i5Y7a_VA/edit?usp=sharing)."
   ]
  },
  {
   "cell_type": "code",
   "execution_count": 1,
   "id": "29e5b684-0d89-4cb5-999e-6a6f5ceeaab3",
   "metadata": {},
   "outputs": [
    {
     "name": "stderr",
     "output_type": "stream",
     "text": [
      "'pwd' is not recognized as an internal or external command,\n",
      "operable program or batch file.\n"
     ]
    }
   ],
   "source": [
    "!pwd"
   ]
  },
  {
   "cell_type": "code",
   "execution_count": 8,
   "id": "5e136158-e12c-4d15-9c47-3cd726054a71",
   "metadata": {},
   "outputs": [],
   "source": [
    "import sys; sys.path.append('../src')\n",
    "import numpy as np\n",
    "import plotly_express as px"
   ]
  },
  {
   "cell_type": "code",
   "execution_count": 7,
   "id": "b53824c3-ccb9-4f1b-9420-bb0b57509862",
   "metadata": {},
   "outputs": [],
   "source": [
    "import pandas as pd\n",
    "import ipywidgets as widgets"
   ]
  },
  {
   "cell_type": "code",
   "execution_count": 23,
   "id": "da0716a6-a156-49a2-83d2-24d5ef36af3a",
   "metadata": {},
   "outputs": [],
   "source": [
    "from datasets import make_circles_dataframe, make_moons_dataframe"
   ]
  },
  {
   "cell_type": "markdown",
   "id": "513df470-6d24-4611-9fe8-61c25397763a",
   "metadata": {},
   "source": [
    "## Fitting and Overfiting "
   ]
  },
  {
   "cell_type": "markdown",
   "id": "2d1e502f-4b12-4bf1-a981-7135b36e0830",
   "metadata": {},
   "source": [
    "The goal of the following exercise is to:\n",
    "* Observe overfitting due to insuffient data\n",
    "* Observe Overfitting due to overly complex model\n",
    "* Identify the overfitting point by looking at Train vs Test error dynamic\n",
    "* Observe how noise levels effect the needed data samples and model capacity"
   ]
  },
  {
   "cell_type": "markdown",
   "id": "c80b1cdc-fcfb-4ac7-841c-a5a534d569cd",
   "metadata": {},
   "source": [
    "To do so, you'll code an experiment in the first part, and analyze the experiment result in the second part."
   ]
  },
  {
   "cell_type": "markdown",
   "id": "95f343cc-0b25-4302-ab24-fc290c07b6ee",
   "metadata": {},
   "source": [
    "### Building an experiment"
   ]
  },
  {
   "cell_type": "markdown",
   "id": "0e2a17e0-fb6f-479c-98bb-e5a6fc81e1ad",
   "metadata": {},
   "source": [
    "Code:\n",
    "\n",
    "1. Create data of size N with noise level of magnitude NL from datasets DS_NAME. \n",
    "1. Split it to training and validation data (no need for test set), use 80%-20%. \n",
    "1. Use Logistic regression and Choose one complex model of your choice: [KNN](https://scikit-learn.org/stable/modules/generated/sklearn.neighbors.KNeighborsClassifier.html), [SVM with RBF kernel](https://scikit-learn.org/stable/modules/svm.html) with different `gamma` values or [Random forest classifier](https://scikit-learn.org/stable/modules/generated/sklearn.ensemble.RandomForestClassifier.html) with differnt number of `min_samples_split`. \n",
    "1. Train on the train set for different hyper parameter values. compute:\n",
    "   1. Classification accuracy on the training set (TRE)\n",
    "   1. Classification accuracy on the validation set (TESTE)\n",
    "   1. The difference beteen the two above (E_DIFF)\n",
    "1. Save DS_NAME, N, NL, CLF_NAME, K, TRE, TESTE, E_DIFF and the regularization/hyper param (K, gamma or min_samples_split and regularization value for the linear regression classifier)\n",
    "\n",
    "Repeat for:\n",
    "* DS_NAME in Moons, Circles\n",
    "* N (number of samples) in [5, 10, 50, 100, 1000, 10000]\n",
    "* NL (noise level) in [0, 0.1, 0.2, 0.3, 0.4, 0.5]\n",
    "* For the complex model: 10 Values of hyper parameter of the complex model you've chosen.\n",
    "* For the linear model: 5 values of ridge (l2) regularization - [0.001, 0.01, 0.1, 1, 10, 100, 1000]"
   ]
  },
  {
   "cell_type": "markdown",
   "id": "ed7e0146-9c7a-4cf1-a83e-da9a11bcc796",
   "metadata": {},
   "source": [
    "### Analysing the expermient results"
   ]
  },
  {
   "cell_type": "markdown",
   "id": "0f39e9c4-0332-4564-a674-52b99332ecfd",
   "metadata": {},
   "source": [
    "1. For SVM only, For dataset of size 10k and for each dataset, What are the best model params? How stable is it? \n",
    "1. For SVM only, For dataset of size 10k and for each dataset, What is the most stable model and model params? How good is it in comparison to other models? Explain using bias and variance terminoligy.\n",
    "1. Does regularization help for linear models? consider different datasets sizes. \n",
    "1. For a given noise level of your chioce, How does the train, test and difference error changes with increasing data sizes? (answer for svm and LR seperatly)\n",
    "1. For a given noise level of your chioce, How does the train, test and difference error changes with increasing model complexity? (answer for svm and LR seperatly)\n",
    "1. Are the noise level effect the number of datapoints needed to reach optimal test results? "
   ]
  },
  {
   "cell_type": "markdown",
   "id": "237fa350-4106-419c-9020-51986a0a716d",
   "metadata": {},
   "source": [
    "Bonus:\n",
    "\n",
    "* For SVM: Select one dataset and with 0.2 noise level. Identify the optimal model params, and visualize the decision boundry learned. \n",
    "  * Hint: Use a grid. See classification models notebook "
   ]
  },
  {
   "cell_type": "markdown",
   "id": "e8bf7262-12b1-4417-acd2-eb8365b04b11",
   "metadata": {},
   "source": [
    "## Tips and Hints"
   ]
  },
  {
   "cell_type": "markdown",
   "id": "aca4522e-a8e9-4476-90ac-d1a2679085f4",
   "metadata": {},
   "source": [
    "For buliding the experiment:\n",
    "\n",
    "* Start with one dataframe holding all the data for both datastes with different noise level. Use the `make_<dataset_name>_dataframe()` functions below, and add two columns, dataset_name and noise_level, before appending the new dataset to the rest of the datasets. Use `df = pd.DataFrame()` to start with an empty dataframe and using a loop, add data to it using `df = df.append(<the needed df here>)`. Verify that you have 10k samples for each dataset type and noise level by a proper `.value_counts()`. You can modify the \n",
    "* When you'll need an N samples data with a specific noise level, use `query()` and `head(n)` to get the needed dataset. \n",
    "* Use sklearn `train_test_split()` method to split the data with `test_size` and `random_state` parameters set correctly to ensure you are always splitting the data the same why for a given fold `k`. Read [the docs](https://scikit-learn.org/stable/modules/generated/sklearn.model_selection.train_test_split.html) if needed. \n",
    "* You can also not create your own data splitter, and instead use `model_selection.cross_validate()` from sklearn. You'll need to ask for the train erros as well as the test errors, see [here](https://scikit-learn.org/stable/modules/generated/sklearn.model_selection.cross_validate.html).\n",
    "* Use prints in proper location to ensure the progress of the experiment. "
   ]
  },
  {
   "cell_type": "markdown",
   "id": "b4f130c6-62ba-4490-983d-1d63470dc615",
   "metadata": {},
   "source": [
    "**If you get stuck, and need refernce, scroll to the end of the notebook to see more hints!**"
   ]
  },
  {
   "cell_type": "markdown",
   "id": "ad8ffe8f-8c0b-4dc3-9cc2-9c3dc02852d7",
   "metadata": {},
   "source": [
    "## Moons dataset"
   ]
  },
  {
   "cell_type": "code",
   "execution_count": 5,
   "id": "7a6b4c61-454e-4887-963f-61d5ec6bc19f",
   "metadata": {},
   "outputs": [],
   "source": [
    "from sklearn.datasets import make_moons"
   ]
  },
  {
   "cell_type": "code",
   "execution_count": 9,
   "id": "7392ae8f-32a7-4c77-a5be-34043ecd09ec",
   "metadata": {},
   "outputs": [
    {
     "data": {
      "text/html": [
       "<div>\n",
       "<style scoped>\n",
       "    .dataframe tbody tr th:only-of-type {\n",
       "        vertical-align: middle;\n",
       "    }\n",
       "\n",
       "    .dataframe tbody tr th {\n",
       "        vertical-align: top;\n",
       "    }\n",
       "\n",
       "    .dataframe thead th {\n",
       "        text-align: right;\n",
       "    }\n",
       "</style>\n",
       "<table border=\"1\" class=\"dataframe\">\n",
       "  <thead>\n",
       "    <tr style=\"text-align: right;\">\n",
       "      <th></th>\n",
       "      <th>x</th>\n",
       "      <th>y</th>\n",
       "      <th>label</th>\n",
       "    </tr>\n",
       "  </thead>\n",
       "  <tbody>\n",
       "    <tr>\n",
       "      <th>0</th>\n",
       "      <td>-0.688215</td>\n",
       "      <td>0.663816</td>\n",
       "      <td>A</td>\n",
       "    </tr>\n",
       "    <tr>\n",
       "      <th>1</th>\n",
       "      <td>0.674605</td>\n",
       "      <td>0.767022</td>\n",
       "      <td>A</td>\n",
       "    </tr>\n",
       "    <tr>\n",
       "      <th>2</th>\n",
       "      <td>-0.539378</td>\n",
       "      <td>0.806867</td>\n",
       "      <td>A</td>\n",
       "    </tr>\n",
       "    <tr>\n",
       "      <th>3</th>\n",
       "      <td>1.905455</td>\n",
       "      <td>0.391254</td>\n",
       "      <td>B</td>\n",
       "    </tr>\n",
       "    <tr>\n",
       "      <th>4</th>\n",
       "      <td>0.026897</td>\n",
       "      <td>0.347387</td>\n",
       "      <td>B</td>\n",
       "    </tr>\n",
       "  </tbody>\n",
       "</table>\n",
       "</div>"
      ],
      "text/plain": [
       "          x         y label\n",
       "0 -0.688215  0.663816     A\n",
       "1  0.674605  0.767022     A\n",
       "2 -0.539378  0.806867     A\n",
       "3  1.905455  0.391254     B\n",
       "4  0.026897  0.347387     B"
      ]
     },
     "execution_count": 9,
     "metadata": {},
     "output_type": "execute_result"
    }
   ],
   "source": [
    "moons_df = make_moons_dataframe(n_samples=1000, noise_level=0.1)\n",
    "moons_df.head()"
   ]
  },
  {
   "cell_type": "code",
   "execution_count": 17,
   "id": "48c4d95c-3cad-4596-a8b3-29d67aa9859c",
   "metadata": {},
   "outputs": [
    {
     "data": {
      "application/vnd.jupyter.widget-view+json": {
       "model_id": "3eb10fcc023943b88f1f03e7335c9a16",
       "version_major": 2,
       "version_minor": 0
      },
      "text/plain": [
       "interactive(children=(FloatSlider(value=0.0, description='noise_level', max=0.5, step=0.05), Output()), _dom_c…"
      ]
     },
     "metadata": {},
     "output_type": "display_data"
    }
   ],
   "source": [
    "@widgets.interact\n",
    "def plot_noisy_moons(noise_level = widgets.FloatSlider(value=0, min=0, max=0.5, step=0.05)):\n",
    "    moons_df = make_moons_dataframe(n_samples=1000, noise_level=noise_level)\n",
    "    return px.scatter(moons_df, x='x', y='y', color = 'label')"
   ]
  },
  {
   "cell_type": "code",
   "execution_count": 18,
   "id": "3b773ae0-6cce-46b2-a472-458e5b13ce6a",
   "metadata": {},
   "outputs": [],
   "source": [
    "#@widgets.interact\n",
    "def plot_noisy_moons1(noise_level = 0.1):\n",
    "    ab=4\n",
    "    #moons_df = make_moons_dataframe(n_samples=1000, noise_level=noise_level)\n",
    "    a=4\n",
    "    return ab"
   ]
  },
  {
   "cell_type": "markdown",
   "id": "ba46a09f-47fd-4871-8424-1df717d5478a",
   "metadata": {},
   "source": [
    "## Circles Dataset"
   ]
  },
  {
   "cell_type": "code",
   "execution_count": 8,
   "id": "14b1498d-60e1-429e-a122-f120f5ed5720",
   "metadata": {},
   "outputs": [
    {
     "data": {
      "text/html": [
       "<div>\n",
       "<style scoped>\n",
       "    .dataframe tbody tr th:only-of-type {\n",
       "        vertical-align: middle;\n",
       "    }\n",
       "\n",
       "    .dataframe tbody tr th {\n",
       "        vertical-align: top;\n",
       "    }\n",
       "\n",
       "    .dataframe thead th {\n",
       "        text-align: right;\n",
       "    }\n",
       "</style>\n",
       "<table border=\"1\" class=\"dataframe\">\n",
       "  <thead>\n",
       "    <tr style=\"text-align: right;\">\n",
       "      <th></th>\n",
       "      <th>x</th>\n",
       "      <th>y</th>\n",
       "      <th>label</th>\n",
       "    </tr>\n",
       "  </thead>\n",
       "  <tbody>\n",
       "    <tr>\n",
       "      <th>0</th>\n",
       "      <td>-0.809017</td>\n",
       "      <td>0.587785</td>\n",
       "      <td>A</td>\n",
       "    </tr>\n",
       "    <tr>\n",
       "      <th>1</th>\n",
       "      <td>-0.462058</td>\n",
       "      <td>-0.653071</td>\n",
       "      <td>B</td>\n",
       "    </tr>\n",
       "    <tr>\n",
       "      <th>2</th>\n",
       "      <td>0.647214</td>\n",
       "      <td>0.470228</td>\n",
       "      <td>B</td>\n",
       "    </tr>\n",
       "    <tr>\n",
       "      <th>3</th>\n",
       "      <td>0.656586</td>\n",
       "      <td>-0.754251</td>\n",
       "      <td>A</td>\n",
       "    </tr>\n",
       "    <tr>\n",
       "      <th>4</th>\n",
       "      <td>0.087851</td>\n",
       "      <td>0.996134</td>\n",
       "      <td>A</td>\n",
       "    </tr>\n",
       "  </tbody>\n",
       "</table>\n",
       "</div>"
      ],
      "text/plain": [
       "          x         y label\n",
       "0 -0.809017  0.587785     A\n",
       "1 -0.462058 -0.653071     B\n",
       "2  0.647214  0.470228     B\n",
       "3  0.656586 -0.754251     A\n",
       "4  0.087851  0.996134     A"
      ]
     },
     "execution_count": 8,
     "metadata": {},
     "output_type": "execute_result"
    }
   ],
   "source": [
    "circles_df = make_circles_dataframe(n_samples=500, noise_level=0)\n",
    "circles_df.head()"
   ]
  },
  {
   "cell_type": "code",
   "execution_count": 19,
   "id": "52ef522a-e381-42e1-b321-31b3d2f3b0de",
   "metadata": {},
   "outputs": [
    {
     "data": {
      "application/vnd.jupyter.widget-view+json": {
       "model_id": "931722e6ea514e7a90cb596abf34f8a1",
       "version_major": 2,
       "version_minor": 0
      },
      "text/plain": [
       "interactive(children=(FloatSlider(value=0.0, description='noise_level', max=0.5, step=0.05), Output()), _dom_c…"
      ]
     },
     "metadata": {},
     "output_type": "display_data"
    }
   ],
   "source": [
    "@widgets.interact\n",
    "def plot_noisy_circles(noise_level = widgets.FloatSlider(value=0, min=0, max=0.5, step=0.05)):\n",
    "    df = make_circles_dataframe(1000, noise_level)\n",
    "    return px.scatter(df, x='x', y='y', color = 'label')"
   ]
  },
  {
   "cell_type": "markdown",
   "id": "68124026-b4bc-4022-81ee-158175f9e732",
   "metadata": {},
   "source": [
    "## Appendix"
   ]
  },
  {
   "cell_type": "markdown",
   "id": "ac7c6e0b-b513-4bb7-b39e-ae3baa5b3e68",
   "metadata": {},
   "source": [
    "### More hints!"
   ]
  },
  {
   "cell_type": "markdown",
   "id": "c2ad0ce4-d598-4e30-ab43-dd9a064d8dd8",
   "metadata": {},
   "source": [
    "If you'll build the datasets dataframe correctly, you'll have **one** dataframe that has dataset_name and noise_level colmuns, as well as the regular x,y,label colmns. To unsure you've appended everything correctly, groupby the proper colmuns and look at the size:"
   ]
  },
  {
   "cell_type": "code",
   "execution_count": 17,
   "id": "4b5d99fc-102f-4b04-8962-1e85e8909cee",
   "metadata": {},
   "outputs": [],
   "source": [
    "# Use proper groupby statement to ensure the datasets dataframe contains data as expected. You should see the following result:"
   ]
  },
  {
   "cell_type": "markdown",
   "id": "8f9e1094-232b-46f2-ba89-856e14fab58b",
   "metadata": {},
   "source": [
    "Your "
   ]
  },
  {
   "cell_type": "markdown",
   "id": "fc58ae49-7d87-462b-b681-61536ae4bca8",
   "metadata": {},
   "source": [
    "You experiment code should look something like that:"
   ]
  },
  {
   "cell_type": "code",
   "execution_count": 19,
   "id": "6b6dca06-01af-437e-8eb1-d559cdb96741",
   "metadata": {
    "tags": []
   },
   "outputs": [],
   "source": [
    "datasets_type = ['circles', 'moons']\n",
    "k_folds = 10\n",
    "n_samples = [10, 50, 100, 1000, 10000]\n",
    "noise_levels = [0, 0.1, 0.2, 0.3, 0.4, 0.5]\n",
    "clf_types = ['log_reg', 'svm']\n",
    "hp_range = <'Your hyper parameters ranges here'>\n",
    "regularization_values = <'Your regularization values here'>\n",
    "results = []\n",
    "for ds_type in datasets_type:\n",
    "    print(f'Working on {ds_type}')\n",
    "    for nl in noise_levels:\n",
    "        for n in n_samples:\n",
    "            ds = datasets.query(<'your query here'>).head(n)\n",
    "            print(f'Starting {k_folds}-fold cross validation for {ds_type} datasets with {n} samples and noise level {nl}. Going to train {clf_types} classifiers.')\n",
    "            for k in range(k_folds):\n",
    "                X, Y = <'Your code here'>\n",
    "                x_train,x_test,y_train,y_test= <'Your code here'>\n",
    "                for clf_type in clf_types:\n",
    "                    if clf_type == 'log_reg':\n",
    "                        for regularization_value in regularization_values:\n",
    "                            train_acc, test_acc = <'Your code here'>\n",
    "                            results.append(<'Your code here'>)\n",
    "                    if clf_type == 'svm':\n",
    "                        for gamma in hp_range:\n",
    "                            train_acc, test_acc = <'Your code here'>\n",
    "                            results.append(<'Your code here'>)"
   ]
  },
  {
   "cell_type": "code",
   "execution_count": 38,
   "id": "158f9ef7-397a-4e39-afbb-b26568c89683",
   "metadata": {},
   "outputs": [
    {
     "name": "stdout",
     "output_type": "stream",
     "text": [
      "Working on circles\n",
      "Working on moons\n"
     ]
    }
   ],
   "source": [
    "import numpy as np\n",
    "from sklearn.datasets import make_circles, make_moons\n",
    "from sklearn.linear_model import LogisticRegression\n",
    "from sklearn.svm import SVC\n",
    "from sklearn.model_selection import KFold\n",
    "\n",
    "datasets_type = ['circles', 'moons']\n",
    "k_folds = 10\n",
    "n_samples = [100,1000,10000]\n",
    "noise_levels = [0, 0.1, 0.2, 0.3, 0.4, 0.5]\n",
    "clf_types = ['log_reg']\n",
    "hp_range = [0.1, 1, 10]\n",
    "regularization_values = [0.1, 1, 10]\n",
    "results = []\n",
    "\n",
    "for ds_type in datasets_type:\n",
    "    print(f'Working on {ds_type}')\n",
    "    if ds_type == 'circles':\n",
    "        dataset_fn = make_circles\n",
    "    elif ds_type == 'moons':\n",
    "        dataset_fn = make_moons\n",
    "    for nl in noise_levels:\n",
    "        for n in n_samples:\n",
    "            ds, labels = dataset_fn(n_samples=n, noise=nl, random_state=42)\n",
    "            #print(f'Starting {k_folds}-fold cross validation for {ds_type} datasets with {n} samples and noise level {nl}. Going to train {clf_types} classifiers.')\n",
    "            kf = KFold(n_splits=k_folds, shuffle=True, random_state=42)\n",
    "            for train_index, test_index in kf.split(ds):\n",
    "                x_train, x_test = ds[train_index], ds[test_index]\n",
    "                y_train, y_test = labels[train_index], labels[test_index]\n",
    "                for clf_type in clf_types:\n",
    "                    if clf_type == 'log_reg':\n",
    "                        for regularization_value in regularization_values:\n",
    "                            clf = LogisticRegression(penalty='l2', C=1/regularization_value, solver='lbfgs')\n",
    "                            clf.fit(x_train, y_train)\n",
    "                            train_acc = clf.score(x_train, y_train)\n",
    "                            test_acc = clf.score(x_test, y_test)\n",
    "                            results.append({'dataset': ds_type, 'noise_level': nl, 'n_samples': n, 'clf_type': clf_type, 'regularization_value': regularization_value, 'train_accuracy': train_acc, 'test_accuracy': test_acc})\n",
    "                    elif clf_type == 'svm':\n",
    "                        for gamma in hp_range:\n",
    "                            for regularization_value in regularization_values:\n",
    "                                clf = SVC(kernel='rbf', C=1/regularization_value, gamma=gamma)\n",
    "                                clf.fit(x_train, y_train)\n",
    "                                train_acc = clf.score(x_train, y_train)\n",
    "                                test_acc = clf.score(x_test, y_test)\n",
    "                                results.append({'dataset': ds_type, 'noise_level': nl, 'n_samples': n, 'clf_type': clf_type, 'regularization_value': regularization_value, 'gamma': gamma, 'train_accuracy': train_acc, 'test_accuracy': test_acc})\n",
    "\n"
   ]
  },
  {
   "cell_type": "code",
   "execution_count": 39,
   "id": "feaad2e0-109e-41cf-90c5-7f0126e6d145",
   "metadata": {},
   "outputs": [
    {
     "data": {
      "text/plain": [
       "[{'dataset': 'circles',\n",
       "  'noise_level': 0,\n",
       "  'n_samples': 100,\n",
       "  'clf_type': 'log_reg',\n",
       "  'regularization_value': 0.1,\n",
       "  'train_accuracy': 0.5555555555555556,\n",
       "  'test_accuracy': 0.3},\n",
       " {'dataset': 'circles',\n",
       "  'noise_level': 0,\n",
       "  'n_samples': 100,\n",
       "  'clf_type': 'log_reg',\n",
       "  'regularization_value': 1,\n",
       "  'train_accuracy': 0.5555555555555556,\n",
       "  'test_accuracy': 0.3},\n",
       " {'dataset': 'circles',\n",
       "  'noise_level': 0,\n",
       "  'n_samples': 100,\n",
       "  'clf_type': 'log_reg',\n",
       "  'regularization_value': 10,\n",
       "  'train_accuracy': 0.5666666666666667,\n",
       "  'test_accuracy': 0.3},\n",
       " {'dataset': 'circles',\n",
       "  'noise_level': 0,\n",
       "  'n_samples': 100,\n",
       "  'clf_type': 'log_reg',\n",
       "  'regularization_value': 0.1,\n",
       "  'train_accuracy': 0.5666666666666667,\n",
       "  'test_accuracy': 0.3},\n",
       " {'dataset': 'circles',\n",
       "  'noise_level': 0,\n",
       "  'n_samples': 100,\n",
       "  'clf_type': 'log_reg',\n",
       "  'regularization_value': 1,\n",
       "  'train_accuracy': 0.5777777777777777,\n",
       "  'test_accuracy': 0.2}]"
      ]
     },
     "execution_count": 39,
     "metadata": {},
     "output_type": "execute_result"
    }
   ],
   "source": [
    "results[:5] #only reg, different n samples"
   ]
  },
  {
   "cell_type": "code",
   "execution_count": 9,
   "id": "69d7a9e3-5a35-4560-9c49-f4c4c4d77c3f",
   "metadata": {},
   "outputs": [],
   "source": [
    "resultspd10k=pd.DataFrame(results)"
   ]
  },
  {
   "cell_type": "code",
   "execution_count": 5,
   "id": "f4ce845e-1870-4481-bfc7-a015abadd990",
   "metadata": {},
   "outputs": [],
   "source": [
    "resultspd=pd.DataFrame(results)"
   ]
  },
  {
   "cell_type": "code",
   "execution_count": 33,
   "id": "5fbc6063-550d-49f5-b117-a12286d442b0",
   "metadata": {},
   "outputs": [],
   "source": [
    "#resultspd10k.test_accuracy.value_counts()"
   ]
  },
  {
   "cell_type": "code",
   "execution_count": 18,
   "id": "85404698-1009-4401-b00a-1b3fb44ef1b9",
   "metadata": {},
   "outputs": [],
   "source": [
    "resultspd10kq1=resultspd10k[resultspd10k.clf_type=='svm']"
   ]
  },
  {
   "cell_type": "code",
   "execution_count": 37,
   "id": "94d96955-6b00-41f8-b45e-348379beb16e",
   "metadata": {},
   "outputs": [],
   "source": [
    "#resultspd10kq1.sort_values('test_accuracy',ascending=False ).head(5)"
   ]
  },
  {
   "cell_type": "code",
   "execution_count": 26,
   "id": "0765e8a0-95ed-4ec3-a0f1-b46c63a64fb7",
   "metadata": {},
   "outputs": [],
   "source": [
    "resultspd10kq11=resultspd10kq1[resultspd10kq1.test_accuracy==1]"
   ]
  },
  {
   "cell_type": "code",
   "execution_count": 34,
   "id": "c4a49c8e-6942-4d6b-ab41-a4959a05f285",
   "metadata": {},
   "outputs": [],
   "source": [
    "#resultspd10kq11.head(50)"
   ]
  },
  {
   "cell_type": "code",
   "execution_count": 31,
   "id": "15543584-4fb4-4200-b0fe-e5f4143cd251",
   "metadata": {},
   "outputs": [
    {
     "data": {
      "image/png": "[encoded data removed]",
      "text/plain": [
       "<Figure size 640x480 with 1 Axes>"
      ]
     },
     "metadata": {},
     "output_type": "display_data"
    }
   ],
   "source": [
    "import matplotlib.pyplot as plt\n",
    "from mpl_toolkits.mplot3d import Axes3D\n",
    "\n",
    "x = resultspd10kq11['regularization_value']\n",
    "y = resultspd10kq11['gamma']\n",
    "z = resultspd10kq11['test_accuracy']\n",
    "\n",
    "fig = plt.figure()\n",
    "ax = fig.add_subplot(111, projection='3d')\n",
    "\n",
    "ax.scatter(x, y, z)\n",
    "\n",
    "ax.set_xlabel('Regularization')\n",
    "ax.set_ylabel('Gamma')\n",
    "ax.set_zlabel('Test Accuracy')\n",
    "ax.set_title('Model Performance')\n",
    "\n",
    "plt.show()\n",
    "\n"
   ]
  },
  {
   "cell_type": "code",
   "execution_count": null,
   "id": "bc8e9c4e-9620-4115-b835-7bc50d9eb4b0",
   "metadata": {},
   "outputs": [],
   "source": [
    "it can be seen there are clusters of stability that provide good accuracy for the test set,  mainly around 0.1, 0.2 for both parameters."
   ]
  },
  {
   "cell_type": "code",
   "execution_count": 36,
   "id": "bb26308e-b447-41ad-8a0b-b0d0750fb47a",
   "metadata": {},
   "outputs": [],
   "source": []
  },
  {
   "cell_type": "code",
   "execution_count": null,
   "id": "0ea74280-c08b-4084-b9d2-46c4272e0384",
   "metadata": {},
   "outputs": [],
   "source": [
    "resultspd3=pd.DataFrame(results)"
   ]
  },
  {
   "cell_type": "code",
   "execution_count": 50,
   "id": "4ac0f230-4934-418c-b269-92361516a8ef",
   "metadata": {},
   "outputs": [],
   "source": [
    "#resultspd3.head(50)"
   ]
  },
  {
   "cell_type": "code",
   "execution_count": 44,
   "id": "a7c74bc2-8c4c-42a1-91ff-a020aebcb6b0",
   "metadata": {},
   "outputs": [
    {
     "data": {
      "image/png": "[encoded data removed]",
      "text/plain": [
       "<Figure size 640x480 with 2 Axes>"
      ]
     },
     "metadata": {},
     "output_type": "display_data"
    }
   ],
   "source": [
    "\n",
    "x = resultspd3['regularization_value']\n",
    "y = resultspd3['n_samples']\n",
    "z = resultspd3['test_accuracy']\n",
    "\n",
    "fig = plt.figure()\n",
    "ax = fig.add_subplot(111, projection='3d')\n",
    "\n",
    "surf = ax.plot_trisurf(x, y, z, cmap='viridis', edgecolor='none')\n",
    "\n",
    "ax.set_xlabel('Regularization')\n",
    "ax.set_ylabel('n_sample')\n",
    "ax.set_zlabel('Test Accuracy')\n",
    "ax.set_title('Model Performance')\n",
    "\n",
    "fig.colorbar(surf, ax=ax)\n",
    "\n",
    "plt.show()\n",
    "\n",
    "\n",
    "\n"
   ]
  },
  {
   "cell_type": "code",
   "execution_count": 46,
   "id": "9c2e2952-2a46-4378-bce3-e7ada3d50443",
   "metadata": {},
   "outputs": [
    {
     "data": {
      "text/html": [
       "<div>\n",
       "<style scoped>\n",
       "    .dataframe tbody tr th:only-of-type {\n",
       "        vertical-align: middle;\n",
       "    }\n",
       "\n",
       "    .dataframe tbody tr th {\n",
       "        vertical-align: top;\n",
       "    }\n",
       "\n",
       "    .dataframe thead th {\n",
       "        text-align: right;\n",
       "    }\n",
       "</style>\n",
       "<table border=\"1\" class=\"dataframe\">\n",
       "  <thead>\n",
       "    <tr style=\"text-align: right;\">\n",
       "      <th></th>\n",
       "      <th>dataset</th>\n",
       "      <th>noise_level</th>\n",
       "      <th>n_samples</th>\n",
       "      <th>clf_type</th>\n",
       "      <th>regularization_value</th>\n",
       "      <th>train_accuracy</th>\n",
       "      <th>test_accuracy</th>\n",
       "    </tr>\n",
       "  </thead>\n",
       "  <tbody>\n",
       "    <tr>\n",
       "      <th>540</th>\n",
       "      <td>moons</td>\n",
       "      <td>0.0</td>\n",
       "      <td>100</td>\n",
       "      <td>log_reg</td>\n",
       "      <td>0.1</td>\n",
       "      <td>0.866667</td>\n",
       "      <td>1.0</td>\n",
       "    </tr>\n",
       "    <tr>\n",
       "      <th>992</th>\n",
       "      <td>moons</td>\n",
       "      <td>0.5</td>\n",
       "      <td>100</td>\n",
       "      <td>log_reg</td>\n",
       "      <td>10.0</td>\n",
       "      <td>0.766667</td>\n",
       "      <td>1.0</td>\n",
       "    </tr>\n",
       "    <tr>\n",
       "      <th>541</th>\n",
       "      <td>moons</td>\n",
       "      <td>0.0</td>\n",
       "      <td>100</td>\n",
       "      <td>log_reg</td>\n",
       "      <td>1.0</td>\n",
       "      <td>0.844444</td>\n",
       "      <td>1.0</td>\n",
       "    </tr>\n",
       "    <tr>\n",
       "      <th>810</th>\n",
       "      <td>moons</td>\n",
       "      <td>0.3</td>\n",
       "      <td>100</td>\n",
       "      <td>log_reg</td>\n",
       "      <td>0.1</td>\n",
       "      <td>0.822222</td>\n",
       "      <td>1.0</td>\n",
       "    </tr>\n",
       "    <tr>\n",
       "      <th>811</th>\n",
       "      <td>moons</td>\n",
       "      <td>0.3</td>\n",
       "      <td>100</td>\n",
       "      <td>log_reg</td>\n",
       "      <td>1.0</td>\n",
       "      <td>0.833333</td>\n",
       "      <td>1.0</td>\n",
       "    </tr>\n",
       "  </tbody>\n",
       "</table>\n",
       "</div>"
      ],
      "text/plain": [
       "    dataset  noise_level  n_samples clf_type  regularization_value  \\\n",
       "540   moons          0.0        100  log_reg                   0.1   \n",
       "992   moons          0.5        100  log_reg                  10.0   \n",
       "541   moons          0.0        100  log_reg                   1.0   \n",
       "810   moons          0.3        100  log_reg                   0.1   \n",
       "811   moons          0.3        100  log_reg                   1.0   \n",
       "\n",
       "     train_accuracy  test_accuracy  \n",
       "540        0.866667            1.0  \n",
       "992        0.766667            1.0  \n",
       "541        0.844444            1.0  \n",
       "810        0.822222            1.0  \n",
       "811        0.833333            1.0  "
      ]
     },
     "execution_count": 46,
     "metadata": {},
     "output_type": "execute_result"
    }
   ],
   "source": [
    "resultspd3.sort_values('test_accuracy',ascending=False ).head(5)"
   ]
  },
  {
   "cell_type": "code",
   "execution_count": 48,
   "id": "b89a3e8c-e6c4-4f17-b91a-d069c7697907",
   "metadata": {},
   "outputs": [
    {
     "data": {
      "application/vnd.jupyter.widget-view+json": {
       "model_id": "a1e4ab4545b14f2cb52269a75f53da90",
       "version_major": 2,
       "version_minor": 0
      },
      "text/plain": [
       "interactive(children=(Dropdown(description='dataset', options=('circles', 'moons'), value='circles'), Dropdown…"
      ]
     },
     "metadata": {},
     "output_type": "display_data"
    }
   ],
   "source": [
    "import pandas as pd\n",
    "import matplotlib.pyplot as plt\n",
    "import ipywidgets as widgets\n",
    "from ipywidgets import interact\n",
    "\n",
    "# Load the dataset\n",
    "data = resultspd3\n",
    "def plot_test_accuracy(dataset, n_samples):\n",
    "    # Filter the data based on the selected dataset and n_samples\n",
    "    filtered_data = data[(data['dataset'] == dataset) & (data['n_samples'] == n_samples)]\n",
    "\n",
    "    # Group the filtered data by regularization_value and calculate mean test_accuracy\n",
    "    grouped_data = filtered_data.groupby('regularization_value')['test_accuracy'].mean()\n",
    "\n",
    "    # Plot the graph\n",
    "    plt.plot(grouped_data.index, grouped_data, label=f'n_samples={n_samples}')\n",
    "\n",
    "    # Set the plot title and labels\n",
    "    plt.title(f'Test Accuracy vs Regularization Value ({dataset} dataset)')\n",
    "    plt.xlabel('Regularization Value')\n",
    "    plt.ylabel('Test Accuracy')\n",
    "    plt.legend()\n",
    "\n",
    "# Create the interactive widget\n",
    "interact(plot_test_accuracy, dataset=['circles', 'moons'], n_samples=[100, 1000, 10000])\n",
    "\n",
    "# Show the plot\n",
    "plt.show()\n",
    "\n",
    "\n",
    "\n",
    "\n"
   ]
  },
  {
   "cell_type": "code",
   "execution_count": null,
   "id": "e8ea0f89-ee5a-4087-a531-967e38f6c4fa",
   "metadata": {},
   "outputs": [],
   "source": [
    "seems like there a defenite effect. for the 10k n_smaple, less so, as the results are sufficient either way."
   ]
  },
  {
   "cell_type": "code",
   "execution_count": 51,
   "id": "9badf14c-407d-4b11-bfaf-188917801ae3",
   "metadata": {},
   "outputs": [
    {
     "name": "stdout",
     "output_type": "stream",
     "text": [
      "Working on circles\n",
      "Working on moons\n"
     ]
    }
   ],
   "source": [
    "#noise level=0.3\n",
    "#svm\n",
    "#For a given noise level of your chioce, How does the train, test and difference error changes with increasing data sizes? (answer for svm and LR seperatly)\n",
    "\n",
    "import numpy as np\n",
    "from sklearn.datasets import make_circles, make_moons\n",
    "from sklearn.linear_model import LogisticRegression\n",
    "from sklearn.svm import SVC\n",
    "from sklearn.model_selection import KFold\n",
    "\n",
    "datasets_type = ['circles', 'moons']\n",
    "k_folds = 10\n",
    "n_samples = [100,1000,10000]\n",
    "noise_levels = [0.3]\n",
    "clf_types = ['svm']\n",
    "hp_range = [0.1, 1, 10]\n",
    "regularization_values = [0.1, 1, 10]\n",
    "results = []\n",
    "\n",
    "for ds_type in datasets_type:\n",
    "    print(f'Working on {ds_type}')\n",
    "    if ds_type == 'circles':\n",
    "        dataset_fn = make_circles\n",
    "    elif ds_type == 'moons':\n",
    "        dataset_fn = make_moons\n",
    "    for nl in noise_levels:\n",
    "        for n in n_samples:\n",
    "            ds, labels = dataset_fn(n_samples=n, noise=nl, random_state=42)\n",
    "            #print(f'Starting {k_folds}-fold cross validation for {ds_type} datasets with {n} samples and noise level {nl}. Going to train {clf_types} classifiers.')\n",
    "            kf = KFold(n_splits=k_folds, shuffle=True, random_state=42)\n",
    "            for train_index, test_index in kf.split(ds):\n",
    "                x_train, x_test = ds[train_index], ds[test_index]\n",
    "                y_train, y_test = labels[train_index], labels[test_index]\n",
    "                for clf_type in clf_types:\n",
    "                    if clf_type == 'log_reg':\n",
    "                        for regularization_value in regularization_values:\n",
    "                            clf = LogisticRegression(penalty='l2', C=1/regularization_value, solver='lbfgs')\n",
    "                            clf.fit(x_train, y_train)\n",
    "                            train_acc = clf.score(x_train, y_train)\n",
    "                            test_acc = clf.score(x_test, y_test)\n",
    "                            results.append({'dataset': ds_type, 'noise_level': nl, 'n_samples': n, 'clf_type': clf_type, 'regularization_value': regularization_value, 'train_accuracy': train_acc, 'test_accuracy': test_acc})\n",
    "                    elif clf_type == 'svm':\n",
    "                        for gamma in hp_range:\n",
    "                            for regularization_value in regularization_values:\n",
    "                                clf = SVC(kernel='rbf', C=1/regularization_value, gamma=gamma)\n",
    "                                clf.fit(x_train, y_train)\n",
    "                                train_acc = clf.score(x_train, y_train)\n",
    "                                test_acc = clf.score(x_test, y_test)\n",
    "                                results.append({'dataset': ds_type, 'noise_level': nl, 'n_samples': n, 'clf_type': clf_type, 'regularization_value': regularization_value, 'gamma': gamma, 'train_accuracy': train_acc, 'test_accuracy': test_acc})\n",
    "\n"
   ]
  },
  {
   "cell_type": "code",
   "execution_count": 53,
   "id": "f547c6b0-63ce-435e-930e-19dbc6ceb3e2",
   "metadata": {},
   "outputs": [],
   "source": [
    "results4=pd.DataFrame(results)"
   ]
  },
  {
   "cell_type": "code",
   "execution_count": 54,
   "id": "14f3e76e-5f57-40f0-84f3-2a620c72c686",
   "metadata": {},
   "outputs": [
    {
     "data": {
      "text/html": [
       "<div>\n",
       "<style scoped>\n",
       "    .dataframe tbody tr th:only-of-type {\n",
       "        vertical-align: middle;\n",
       "    }\n",
       "\n",
       "    .dataframe tbody tr th {\n",
       "        vertical-align: top;\n",
       "    }\n",
       "\n",
       "    .dataframe thead th {\n",
       "        text-align: right;\n",
       "    }\n",
       "</style>\n",
       "<table border=\"1\" class=\"dataframe\">\n",
       "  <thead>\n",
       "    <tr style=\"text-align: right;\">\n",
       "      <th></th>\n",
       "      <th>dataset</th>\n",
       "      <th>noise_level</th>\n",
       "      <th>n_samples</th>\n",
       "      <th>clf_type</th>\n",
       "      <th>regularization_value</th>\n",
       "      <th>gamma</th>\n",
       "      <th>train_accuracy</th>\n",
       "      <th>test_accuracy</th>\n",
       "    </tr>\n",
       "  </thead>\n",
       "  <tbody>\n",
       "    <tr>\n",
       "      <th>0</th>\n",
       "      <td>circles</td>\n",
       "      <td>0.3</td>\n",
       "      <td>100</td>\n",
       "      <td>svm</td>\n",
       "      <td>0.1</td>\n",
       "      <td>0.1</td>\n",
       "      <td>0.644444</td>\n",
       "      <td>0.4</td>\n",
       "    </tr>\n",
       "    <tr>\n",
       "      <th>1</th>\n",
       "      <td>circles</td>\n",
       "      <td>0.3</td>\n",
       "      <td>100</td>\n",
       "      <td>svm</td>\n",
       "      <td>1.0</td>\n",
       "      <td>0.1</td>\n",
       "      <td>0.522222</td>\n",
       "      <td>0.3</td>\n",
       "    </tr>\n",
       "    <tr>\n",
       "      <th>2</th>\n",
       "      <td>circles</td>\n",
       "      <td>0.3</td>\n",
       "      <td>100</td>\n",
       "      <td>svm</td>\n",
       "      <td>10.0</td>\n",
       "      <td>0.1</td>\n",
       "      <td>0.522222</td>\n",
       "      <td>0.3</td>\n",
       "    </tr>\n",
       "    <tr>\n",
       "      <th>3</th>\n",
       "      <td>circles</td>\n",
       "      <td>0.3</td>\n",
       "      <td>100</td>\n",
       "      <td>svm</td>\n",
       "      <td>0.1</td>\n",
       "      <td>1.0</td>\n",
       "      <td>0.722222</td>\n",
       "      <td>0.7</td>\n",
       "    </tr>\n",
       "    <tr>\n",
       "      <th>4</th>\n",
       "      <td>circles</td>\n",
       "      <td>0.3</td>\n",
       "      <td>100</td>\n",
       "      <td>svm</td>\n",
       "      <td>1.0</td>\n",
       "      <td>1.0</td>\n",
       "      <td>0.600000</td>\n",
       "      <td>0.8</td>\n",
       "    </tr>\n",
       "  </tbody>\n",
       "</table>\n",
       "</div>"
      ],
      "text/plain": [
       "   dataset  noise_level  n_samples clf_type  regularization_value  gamma  \\\n",
       "0  circles          0.3        100      svm                   0.1    0.1   \n",
       "1  circles          0.3        100      svm                   1.0    0.1   \n",
       "2  circles          0.3        100      svm                  10.0    0.1   \n",
       "3  circles          0.3        100      svm                   0.1    1.0   \n",
       "4  circles          0.3        100      svm                   1.0    1.0   \n",
       "\n",
       "   train_accuracy  test_accuracy  \n",
       "0        0.644444            0.4  \n",
       "1        0.522222            0.3  \n",
       "2        0.522222            0.3  \n",
       "3        0.722222            0.7  \n",
       "4        0.600000            0.8  "
      ]
     },
     "execution_count": 54,
     "metadata": {},
     "output_type": "execute_result"
    }
   ],
   "source": [
    "results4.head(5)\n"
   ]
  },
  {
   "cell_type": "code",
   "execution_count": 56,
   "id": "f06f84f9-3387-4f63-be9e-c53c214f23f0",
   "metadata": {},
   "outputs": [
    {
     "data": {
      "image/png": "[encoded data removed]",
      "text/plain": [
       "<Figure size 640x480 with 1 Axes>"
      ]
     },
     "metadata": {},
     "output_type": "display_data"
    }
   ],
   "source": [
    "\n",
    "\n",
    "grouped_data = results4.groupby('n_samples').mean()\n",
    "\n",
    "train_accuracy = grouped_data['train_accuracy']\n",
    "test_accuracy = grouped_data['test_accuracy']\n",
    "\n",
    "plt.plot(train_accuracy, label='Train Accuracy')\n",
    "plt.plot(test_accuracy, label='Test Accuracy')\n",
    "plt.xlabel('n_samples')\n",
    "plt.ylabel('Accuracy')\n",
    "plt.title('Train Accuracy and Test Accuracy vs. n_samples')\n",
    "plt.legend()\n",
    "plt.show()"
   ]
  },
  {
   "cell_type": "code",
   "execution_count": null,
   "id": "2a795c56-e343-450d-ad89-629ab6e38b73",
   "metadata": {},
   "outputs": [],
   "source": [
    "#Obviously, a bigger smaple provides better results. also, the difference between train accuracy and test accuracy is smaller, showing for better modeling"
   ]
  },
  {
   "cell_type": "code",
   "execution_count": 57,
   "id": "3d857788-4b2c-482a-b760-c91a05b1a044",
   "metadata": {},
   "outputs": [
    {
     "name": "stdout",
     "output_type": "stream",
     "text": [
      "Working on circles\n",
      "Working on moons\n"
     ]
    }
   ],
   "source": [
    "#noise level=0.3\n",
    "#log_reg\n",
    "#For a given noise level of your chioce, How does the train, test and difference error changes with increasing data sizes? (answer for svm and LR seperatly)\n",
    "\n",
    "import numpy as np\n",
    "from sklearn.datasets import make_circles, make_moons\n",
    "from sklearn.linear_model import LogisticRegression\n",
    "from sklearn.svm import SVC\n",
    "from sklearn.model_selection import KFold\n",
    "\n",
    "datasets_type = ['circles', 'moons']\n",
    "k_folds = 10\n",
    "n_samples = [100,1000,10000]\n",
    "noise_levels = [0.3]\n",
    "clf_types = ['log_reg']\n",
    "hp_range = [0.1, 1, 10]\n",
    "regularization_values = [0.1, 1, 10]\n",
    "results = []\n",
    "\n",
    "for ds_type in datasets_type:\n",
    "    print(f'Working on {ds_type}')\n",
    "    if ds_type == 'circles':\n",
    "        dataset_fn = make_circles\n",
    "    elif ds_type == 'moons':\n",
    "        dataset_fn = make_moons\n",
    "    for nl in noise_levels:\n",
    "        for n in n_samples:\n",
    "            ds, labels = dataset_fn(n_samples=n, noise=nl, random_state=42)\n",
    "            #print(f'Starting {k_folds}-fold cross validation for {ds_type} datasets with {n} samples and noise level {nl}. Going to train {clf_types} classifiers.')\n",
    "            kf = KFold(n_splits=k_folds, shuffle=True, random_state=42)\n",
    "            for train_index, test_index in kf.split(ds):\n",
    "                x_train, x_test = ds[train_index], ds[test_index]\n",
    "                y_train, y_test = labels[train_index], labels[test_index]\n",
    "                for clf_type in clf_types:\n",
    "                    if clf_type == 'log_reg':\n",
    "                        for regularization_value in regularization_values:\n",
    "                            clf = LogisticRegression(penalty='l2', C=1/regularization_value, solver='lbfgs')\n",
    "                            clf.fit(x_train, y_train)\n",
    "                            train_acc = clf.score(x_train, y_train)\n",
    "                            test_acc = clf.score(x_test, y_test)\n",
    "                            results.append({'dataset': ds_type, 'noise_level': nl, 'n_samples': n, 'clf_type': clf_type, 'regularization_value': regularization_value, 'train_accuracy': train_acc, 'test_accuracy': test_acc})\n",
    "                    elif clf_type == 'svm':\n",
    "                        for gamma in hp_range:\n",
    "                            for regularization_value in regularization_values:\n",
    "                                clf = SVC(kernel='rbf', C=1/regularization_value, gamma=gamma)\n",
    "                                clf.fit(x_train, y_train)\n",
    "                                train_acc = clf.score(x_train, y_train)\n",
    "                                test_acc = clf.score(x_test, y_test)\n",
    "                                results.append({'dataset': ds_type, 'noise_level': nl, 'n_samples': n, 'clf_type': clf_type, 'regularization_value': regularization_value, 'gamma': gamma, 'train_accuracy': train_acc, 'test_accuracy': test_acc})\n"
   ]
  },
  {
   "cell_type": "code",
   "execution_count": 58,
   "id": "86cc5c3c-d032-44c9-8a8b-b0db1b876a73",
   "metadata": {},
   "outputs": [
    {
     "data": {
      "image/png": "[encoded data removed]",
      "text/plain": [
       "<Figure size 640x480 with 1 Axes>"
      ]
     },
     "metadata": {},
     "output_type": "display_data"
    }
   ],
   "source": [
    "results4logreg=pd.DataFrame(results)\n",
    "grouped_data = results4logreg.groupby('n_samples').mean()\n",
    "\n",
    "train_accuracy = grouped_data['train_accuracy']\n",
    "test_accuracy = grouped_data['test_accuracy']\n",
    "\n",
    "plt.plot(train_accuracy, label='Train Accuracy')\n",
    "plt.plot(test_accuracy, label='Test Accuracy')\n",
    "plt.xlabel('n_samples')\n",
    "plt.ylabel('Accuracy')\n",
    "plt.title('Train Accuracy and Test Accuracy vs. n_samples')\n",
    "plt.legend()\n",
    "plt.show()"
   ]
  },
  {
   "cell_type": "code",
   "execution_count": null,
   "id": "dbc55189-1db6-43f0-ba51-199d73dddf6b",
   "metadata": {},
   "outputs": [],
   "source": [
    "#looks the same to me, probably missing something fundamental."
   ]
  },
  {
   "cell_type": "code",
   "execution_count": null,
   "id": "5f1fde72-6b52-42aa-87dd-f3e804a94be1",
   "metadata": {},
   "outputs": [],
   "source": []
  },
  {
   "cell_type": "code",
   "execution_count": 59,
   "id": "61c9961f-f54b-4467-a6e4-7e82d9c7fb4c",
   "metadata": {},
   "outputs": [
    {
     "data": {
      "application/vnd.jupyter.widget-view+json": {
       "model_id": "a2d5d981d9ca40f3829a0b3b0de75a35",
       "version_major": 2,
       "version_minor": 0
      },
      "text/plain": [
       "interactive(children=(Dropdown(description='dataset', options=('circles', 'moons'), value='circles'), Dropdown…"
      ]
     },
     "metadata": {},
     "output_type": "display_data"
    }
   ],
   "source": [
    "data = resultspd10k\n",
    "def plot_test_accuracy(dataset, n_samples):\n",
    "    # Filter the data based on the selected dataset and n_samples\n",
    "    filtered_data = data[(data['dataset'] == dataset) & (data['n_samples'] == n_samples)]\n",
    "\n",
    "    # Group the filtered data by regularization_value and calculate mean test_accuracy\n",
    "    grouped_data = filtered_data.groupby('noise_level')['test_accuracy'].mean()\n",
    "\n",
    "    # Plot the graph\n",
    "    plt.plot(grouped_data.index, grouped_data, label=f'n_samples={n_samples}')\n",
    "\n",
    "    # Set the plot title and labels\n",
    "    plt.title(f'Test Accuracy vs Noise level ({dataset} dataset)')\n",
    "    plt.xlabel('Noise level')\n",
    "    plt.ylabel('Test Accuracy')\n",
    "    plt.legend()\n",
    "\n",
    "# Create the interactive widget\n",
    "interact(plot_test_accuracy, dataset=['circles', 'moons'], n_samples=[100, 1000, 10000])\n",
    "\n",
    "# Show the plot\n",
    "plt.show()"
   ]
  },
  {
   "cell_type": "code",
   "execution_count": null,
   "id": "b0af0d57-eff9-4466-a4d2-d2a4fd6a5692",
   "metadata": {},
   "outputs": [],
   "source": []
  }
 ],
 "metadata": {
  "kernelspec": {
   "display_name": "Python 3 (ipykernel)",
   "language": "python",
   "name": "python3"
  },
  "language_info": {
   "codemirror_mode": {
    "name": "ipython",
    "version": 3
   },
   "file_extension": ".py",
   "mimetype": "text/x-python",
   "name": "python",
   "nbconvert_exporter": "python",
   "pygments_lexer": "ipython3",
   "version": "3.9.13"
  }
 },
 "nbformat": 4,
 "nbformat_minor": 5
}
