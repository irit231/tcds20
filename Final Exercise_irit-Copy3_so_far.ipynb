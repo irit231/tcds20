{
 "cells": [
  {
   "cell_type": "markdown",
   "id": "1be4ca61-a9a1-4c7c-8a09-00c819f264ac",
   "metadata": {},
   "source": [
    "# Final Exercise - Python for Data Science"
   ]
  },
  {
   "cell_type": "markdown",
   "id": "a4fc407d-2bab-48f5-bf79-6070f59a9825",
   "metadata": {},
   "source": [
    "## Python Basics"
   ]
  },
  {
   "cell_type": "markdown",
   "id": "02307169-7541-4209-84f6-7ddc2e48ed1d",
   "metadata": {},
   "source": [
    "### strings"
   ]
  },
  {
   "cell_type": "markdown",
   "id": "8d8d4e71-7673-4fd5-95b0-a647f1a44803",
   "metadata": {
    "tags": []
   },
   "source": [
    "#### Contact two strings"
   ]
  },
  {
   "cell_type": "code",
   "execution_count": 2,
   "id": "3d4d5d41-5c40-4178-85dd-f09ac771e1a7",
   "metadata": {},
   "outputs": [
    {
     "data": {
      "text/plain": [
       "'abcde12345'"
      ]
     },
     "execution_count": 2,
     "metadata": {},
     "output_type": "execute_result"
    }
   ],
   "source": [
    "s1 = 'abcde'\n",
    "s2 = '12345'\n",
    "expected = 'abcde12345'\n",
    "s12=s1+s2\n",
    "s12"
   ]
  },
  {
   "cell_type": "markdown",
   "id": "0712e85a-bf3f-462b-9283-1cb034b10dbe",
   "metadata": {
    "tags": []
   },
   "source": [
    "#### Write a function that contacts the first half of string 1 to the second half of string 2"
   ]
  },
  {
   "cell_type": "markdown",
   "id": "8263aa4f-371a-45ed-870e-06603f660f58",
   "metadata": {},
   "source": [
    "Use a function `mix_halves()` to solve the general case (any two strings)"
   ]
  },
  {
   "cell_type": "markdown",
   "id": "b88b1942-208f-43fc-b2da-f87a0804d3b0",
   "metadata": {},
   "source": [
    "For example:"
   ]
  },
  {
   "cell_type": "code",
   "execution_count": 11,
   "id": "bd3f9f3b-ece2-4a03-8f20-d349712a7604",
   "metadata": {},
   "outputs": [
    {
     "data": {
      "text/plain": [
       "'abc456'"
      ]
     },
     "execution_count": 11,
     "metadata": {},
     "output_type": "execute_result"
    }
   ],
   "source": [
    "s1 = 'abcdef'\n",
    "s2 = '123456'\n",
    "expected = 'abc456'\n",
    "\n",
    "def mix_halves(s1,s2):\n",
    "    s11=s1.split(s1[len(s1)//2])\n",
    "    s22=s2.split(s2[len(s2)//2-1]) \n",
    "    s33=s11[0]+s22[1]  \n",
    "    return s33\n",
    "mix_halves(s1,s2)"
   ]
  },
  {
   "cell_type": "markdown",
   "id": "8e65ad5d-9f43-462a-86ee-a7bc1dfa3e7b",
   "metadata": {
    "tags": []
   },
   "source": [
    "#### Construct a string with characters from another string that are present at an even index number"
   ]
  },
  {
   "cell_type": "code",
   "execution_count": 44,
   "id": "77a728ab-2e6d-4afa-91b2-c365e5a091ad",
   "metadata": {},
   "outputs": [
    {
     "data": {
      "text/plain": [
       "'abcd'"
      ]
     },
     "execution_count": 44,
     "metadata": {},
     "output_type": "execute_result"
    }
   ],
   "source": [
    "s = '1a2b3c4d'\n",
    "expected = 'abcd'\n",
    "\n",
    "evens=''\n",
    "for y in enumerate(s):\n",
    "    if (y[0]//2-y[0]/2):\n",
    "        evens=evens+y[1]\n",
    "evens\n"
   ]
  },
  {
   "cell_type": "markdown",
   "id": "08f4f2e3-dfb6-43a2-993a-90d4bac6c9da",
   "metadata": {},
   "source": [
    "#### Arrange string characters such that lowercase letters should come first"
   ]
  },
  {
   "cell_type": "markdown",
   "id": "0954a710-5261-43c5-bef2-fa8a998b29ec",
   "metadata": {},
   "source": [
    "Given string contains a combination of the lower and upper case letters. Write a program to arrange the characters of a string so that all lowercase letters should come first."
   ]
  },
  {
   "cell_type": "code",
   "execution_count": 14,
   "id": "8d12d734-780c-4158-899b-0ed7436893f2",
   "metadata": {},
   "outputs": [
    {
     "data": {
      "text/plain": [
       "'yaivePNT'"
      ]
     },
     "execution_count": 14,
     "metadata": {},
     "output_type": "execute_result"
    }
   ],
   "source": [
    "s1 = 'PyNaTive'\n",
    "expected = 'yaivePNT'\n",
    "lowerfirst=''\n",
    "for y in s1:\n",
    "    if y.islower():\n",
    "        lowerfirst=lowerfirst+y\n",
    "for y in s1:\n",
    "    if y.isupper():\n",
    "        lowerfirst=lowerfirst+y\n",
    "lowerfirst"
   ]
  },
  {
   "cell_type": "markdown",
   "id": "f9569bf1-9673-4a1c-9b35-68f386544c93",
   "metadata": {
    "tags": []
   },
   "source": [
    "#### Count all letters, digits, and special symbols from a given string"
   ]
  },
  {
   "cell_type": "code",
   "execution_count": 19,
   "id": "801f88ca-c591-456e-886a-412ed0ed6b89",
   "metadata": {},
   "outputs": [
    {
     "name": "stdout",
     "output_type": "stream",
     "text": [
      "Total counts of chars, digits, and symbols\n",
      "Chars = 8\n",
      "Digits = 3\n",
      "Simbols = 4\n"
     ]
    }
   ],
   "source": [
    "s1 = \"P@#yn26at^&i5ve\"\n",
    "\n",
    "digit=0\n",
    "char=0\n",
    "simbol=0\n",
    "\n",
    "for y in s1:\n",
    "    if y.isdigit():\n",
    "        digit=digit+1\n",
    "    else: \n",
    "      if y.isalpha():\n",
    "        char=char+1\n",
    "      else: \n",
    "        simbol=simbol+1\n",
    "print(\"Total counts of chars, digits, and symbols\")\n",
    "print(\"Chars =\", char)\n",
    "print(\"Digits =\", digit)\n",
    "print(\"Simbols =\", simbol)"
   ]
  },
  {
   "cell_type": "markdown",
   "id": "ed575e73-3a21-4fd4-b549-e0f4b8e7dca9",
   "metadata": {},
   "source": [
    "Hint: use `isalpha()` and a similar method for digit (can you guess its name?)"
   ]
  },
  {
   "cell_type": "markdown",
   "id": "b0a445dd-d872-452a-9585-da15756144b0",
   "metadata": {},
   "source": [
    "Expected Outcome:\n",
    "\n",
    "```\n",
    "Total counts of chars, digits, and symbols \n",
    "Chars = 8 \n",
    "Digits = 3 \n",
    "Symbol = 4\n"
   ]
  },
  {
   "cell_type": "markdown",
   "id": "146d5603-ddf4-4e84-8325-8cc15af329d1",
   "metadata": {
    "tags": []
   },
   "source": [
    "#### String characters balance Test"
   ]
  },
  {
   "cell_type": "markdown",
   "id": "460b992e-270c-4f72-8289-840741409654",
   "metadata": {},
   "source": [
    "Write a program to check if two strings are balanced. For example, strings s1 and s2 are balanced if all the characters in the s1 are present in s2. The character’s position doesn’t matter."
   ]
  },
  {
   "cell_type": "markdown",
   "id": "d8b4203e-8c62-4ea7-b27d-c5bb9f390516",
   "metadata": {},
   "source": [
    "Example of balanced strings:\n",
    "```python\n",
    "s1 = \"Yn\"\n",
    "s2 = \"PYnative\"\n",
    "```"
   ]
  },
  {
   "cell_type": "markdown",
   "id": "0ea95b42-7db1-438c-9cd8-a63bf0374266",
   "metadata": {},
   "source": [
    "Example of unbalanced strings:\n",
    "```python\n",
    "s1 = \"Ynf\"\n",
    "s2 = \"PYnative\"\n",
    "```"
   ]
  },
  {
   "cell_type": "code",
   "execution_count": 37,
   "id": "b55ce235-9044-4431-b60d-a48a3254f667",
   "metadata": {},
   "outputs": [
    {
     "name": "stdout",
     "output_type": "stream",
     "text": [
      "The strings : Ynf , PYnative , are not balanced\n"
     ]
    }
   ],
   "source": [
    "s1 = \"Ynf\"\n",
    "s2 = \"PYnative\"\n",
    "isballanced=True\n",
    "for l in s1:\n",
    "    if l in s2:\n",
    "        pass\n",
    "    else:\n",
    "        isballanced=False\n",
    "if isballanced:\n",
    "    print(\"The strings\",\":\",s1,\",\",s2,\",\", \"are balanced\")\n",
    "else:\n",
    "    print(\"The strings\",\":\",s1,\",\",s2,\",\", \"are not balanced\")\n"
   ]
  },
  {
   "cell_type": "markdown",
   "id": "ddbe9234-d8ce-44ae-9bf2-eba2ec23c9fb",
   "metadata": {},
   "source": [
    "#### Write a program to count occurrences of all characters within a string"
   ]
  },
  {
   "cell_type": "markdown",
   "id": "bc847da2-c924-430c-9753-67525274c512",
   "metadata": {},
   "source": [
    "For example, for `str1 = \"Apple\"` the answer should be `{'A': 1, 'p': 2, 'l': 1, 'e': 1}`"
   ]
  },
  {
   "cell_type": "code",
   "execution_count": 26,
   "id": "9699ae98-0a17-4fd9-8540-b97ea4bfce26",
   "metadata": {},
   "outputs": [
    {
     "data": {
      "text/plain": [
       "{'A': 1, 'p': 2, 'l': 1, 'e': 1}"
      ]
     },
     "execution_count": 26,
     "metadata": {},
     "output_type": "execute_result"
    }
   ],
   "source": [
    "str1 = \"Apple\"\n",
    "letter_counts = {}\n",
    "for l in str1:\n",
    "    if l in letter_counts:\n",
    "     letter_counts[l] += 1\n",
    "    else:\n",
    "      letter_counts[l] = 1\n",
    "letter_counts"
   ]
  },
  {
   "cell_type": "markdown",
   "id": "186edcb9-e40c-44cb-adb2-1266134e9f60",
   "metadata": {
    "tags": []
   },
   "source": [
    "#### Split a string on hyphens"
   ]
  },
  {
   "cell_type": "code",
   "execution_count": 38,
   "id": "02b60ab8-880a-4932-9d60-bfa3e7da2312",
   "metadata": {},
   "outputs": [
    {
     "data": {
      "text/plain": [
       "['Emma', 'is', 'a', 'data', 'scientist']"
      ]
     },
     "execution_count": 38,
     "metadata": {},
     "output_type": "execute_result"
    }
   ],
   "source": [
    "s1 = 'Emma-is-a-data-scientist'\n",
    "expected = ['Emma', 'is', 'a', 'data', 'scientist']\n",
    "\n",
    "s1.split(\"-\")\n"
   ]
  },
  {
   "cell_type": "markdown",
   "id": "a819c27c-7eb2-4fb6-a352-2bf1adce2389",
   "metadata": {
    "tags": []
   },
   "source": [
    "#### Remove empty strings from a list of strings"
   ]
  },
  {
   "cell_type": "code",
   "execution_count": 42,
   "id": "f908098d-afc5-4faa-ba6e-2db10d0dbecf",
   "metadata": {},
   "outputs": [
    {
     "name": "stdout",
     "output_type": "stream",
     "text": [
      "1: ['Emma', 'Jon', 'Kelly', None, 'Eric']\n",
      "2: ['Emma', 'Jon', 'Kelly', None, 'Eric']\n"
     ]
    }
   ],
   "source": [
    "str_list = [\"Emma\", \"Jon\", \"\", \"Kelly\", None, \"Eric\", \"\"]\n",
    "expected = [\"Emma\", \"Jon\", \"Kelly\", \"Eric\"]\n",
    "new_str_list1 = [i for i in str_list if i is not (None or \"\")]\n",
    "print(\"1:\",new_str_list1)\n",
    "new_str_list2 = list(filter(lambda item: item is not (None or \"\"), str_list))\n",
    "print(\"2:\",new_str_list2)"
   ]
  },
  {
   "cell_type": "markdown",
   "id": "b00c64ab-a8ea-4d47-8e57-5ddf0a72a9fa",
   "metadata": {
    "tags": []
   },
   "source": [
    "#### Find words with both alphabets and numbers"
   ]
  },
  {
   "cell_type": "code",
   "execution_count": 43,
   "id": "8a335ab9-9b08-4156-9960-a2597de2e6f6",
   "metadata": {},
   "outputs": [
    {
     "data": {
      "text/plain": [
       "['Emma25', 'scientist50']"
      ]
     },
     "execution_count": 43,
     "metadata": {},
     "output_type": "execute_result"
    }
   ],
   "source": [
    "str1 = \"Emma25 is Data scientist50 and AI Expert\"\n",
    "expected = ['Emma25', 'scientist50']\n",
    "newstr1=list()\n",
    "for w in str1.split():\n",
    "    a=([True if i.isalpha() else False for i in list(w)])\n",
    "    if any(a) and not all(a):\n",
    "       newstr1.append(w) \n",
    "newstr1  "
   ]
  },
  {
   "cell_type": "markdown",
   "id": "16058557-1dc7-420a-b346-9e3f4a3e9fd6",
   "metadata": {},
   "source": [
    "Hint: read about the `any()` and `all()` python function, they are very handy."
   ]
  },
  {
   "cell_type": "markdown",
   "id": "1cea518a-91e1-4bec-8970-45d1257715db",
   "metadata": {
    "tags": []
   },
   "source": [
    "#### Replace each special symbol with # in the following string"
   ]
  },
  {
   "cell_type": "code",
   "execution_count": 49,
   "id": "affc71f5-9e82-45fb-b5dd-8275df4af167",
   "metadata": {},
   "outputs": [
    {
     "data": {
      "text/plain": [
       "True"
      ]
     },
     "execution_count": 49,
     "metadata": {},
     "output_type": "execute_result"
    }
   ],
   "source": [
    "s1 = '/*Jon is @developer & musician!!'\n",
    "expected = '##Jon is #developer # musician##'\n",
    "news1=\"\"\n",
    "for y in enumerate(s1):\n",
    "    if (not y[1].isalpha() and not y[1]==\" \"):\n",
    "        news1=news1+\"#\"\n",
    "    else:\n",
    "        news1=news1+y[1]\n",
    "news1==expected"
   ]
  },
  {
   "cell_type": "markdown",
   "id": "592cbb58-3931-4048-b844-8f032735c4bb",
   "metadata": {
    "tags": []
   },
   "source": [
    "#### Remove first n characters from a string:\n",
    "\n",
    "Write a program to remove characters from a string starting from zero up to n and return a new string.\n",
    "\n",
    "For example:\n",
    "\n",
    "remove_chars(\"pynative\", 4) so output must be tive. Here we need to remove first four characters from a string.\n",
    "remove_chars(\"pynative\", 2) so output must be native. Here we need to remove first two characters from a string."
   ]
  },
  {
   "cell_type": "code",
   "execution_count": 53,
   "id": "0c2910bd-f686-4167-838c-4e72399f287a",
   "metadata": {},
   "outputs": [
    {
     "data": {
      "text/plain": [
       "'tive'"
      ]
     },
     "execution_count": 53,
     "metadata": {},
     "output_type": "execute_result"
    }
   ],
   "source": [
    "\n",
    "def removefirstn(s,n):\n",
    "    news=\"\"\n",
    "    if len(s)<n:\n",
    "      print(\"Nope\") \n",
    "    else:\n",
    "      for i in range(n,len(s)):\n",
    "       news=news+s[i]\n",
    "      return(news)\n",
    "#second example    \n",
    "removefirstn(\"pynative\", 4)"
   ]
  },
  {
   "cell_type": "markdown",
   "id": "d908eaf1-33c0-433a-97bb-11fe6da94087",
   "metadata": {
    "jp-MarkdownHeadingCollapsed": true,
    "tags": []
   },
   "source": [
    "#### Return the count of a given substring from a string"
   ]
  },
  {
   "cell_type": "code",
   "execution_count": 54,
   "id": "0a051846-2713-46c3-9d6a-6182b3a6af7b",
   "metadata": {},
   "outputs": [],
   "source": [
    "s = 'you and me and your parents are more than you'\n",
    "subs = 'you'"
   ]
  },
  {
   "cell_type": "code",
   "execution_count": 59,
   "id": "125c6019-a225-48d3-842c-bc9cb248757e",
   "metadata": {},
   "outputs": [
    {
     "data": {
      "text/plain": [
       "3"
      ]
     },
     "execution_count": 59,
     "metadata": {},
     "output_type": "execute_result"
    }
   ],
   "source": [
    "expected_result = 3\n",
    "s = 'you and me and your parents are more than you'\n",
    "subs = 'you'\n",
    "s.count(subs)\n"
   ]
  },
  {
   "cell_type": "markdown",
   "id": "8eacde7e-59d3-48e3-8883-390831d4208f",
   "metadata": {},
   "source": [
    "#### Print the following pattern"
   ]
  },
  {
   "cell_type": "markdown",
   "id": "8808f549-3cc9-4629-ab67-c28153daed00",
   "metadata": {},
   "source": [
    "```python\n",
    "1 \n",
    "2 2 \n",
    "3 3 3 \n",
    "4 4 4 4 \n",
    "5 5 5 5 5\n",
    "```"
   ]
  },
  {
   "cell_type": "code",
   "execution_count": 60,
   "id": "715dfb32-7db0-49df-898f-fa22cb2b5556",
   "metadata": {},
   "outputs": [
    {
     "name": "stdout",
     "output_type": "stream",
     "text": [
      "1 \n",
      "2 2 \n",
      "3 3 3 \n",
      "4 4 4 4 \n",
      "5 5 5 5 5 \n"
     ]
    }
   ],
   "source": [
    "n=5\n",
    "for i in range(1,n+1):\n",
    "  print(\"{} \".format(i)*i)"
   ]
  },
  {
   "cell_type": "markdown",
   "id": "7c82af79-cc0c-4e6b-8e53-415671476c18",
   "metadata": {
    "tags": []
   },
   "source": [
    "### Numbers"
   ]
  },
  {
   "cell_type": "markdown",
   "id": "2112bead-96cb-4e8c-ad36-80b72813794e",
   "metadata": {
    "tags": []
   },
   "source": [
    "#### Write a function called `exponent(base, exp)` that returns an int value of base raises to the power of exp."
   ]
  },
  {
   "cell_type": "markdown",
   "id": "20d7558a-68d9-4fda-9f89-7ffac05791df",
   "metadata": {},
   "source": [
    "for example:\n",
    "\n",
    "```python\n",
    "base = 5\n",
    "exponent = 4\n",
    "\n",
    "5 raises to the power of 4 is: 625 \n",
    "i.e. (5 *5 * 5 *5 = 625)\n",
    "```"
   ]
  },
  {
   "cell_type": "code",
   "execution_count": 62,
   "id": "776c5485-e645-433a-ab44-739b14661c80",
   "metadata": {},
   "outputs": [
    {
     "data": {
      "text/plain": [
       "625"
      ]
     },
     "execution_count": 62,
     "metadata": {},
     "output_type": "execute_result"
    }
   ],
   "source": [
    "def exponent(base,exp):\n",
    "    return(base**exp)\n",
    "exponent(5,4)"
   ]
  },
  {
   "cell_type": "markdown",
   "id": "53c1d9c4-e086-437a-8698-95d2c78ecf87",
   "metadata": {
    "tags": []
   },
   "source": [
    "#### Count the total number of digits in a number"
   ]
  },
  {
   "cell_type": "markdown",
   "id": "79fa17af-fc07-497b-8068-d063e41491e3",
   "metadata": {},
   "source": [
    "For example, the number is 75869, so the output should be 5."
   ]
  },
  {
   "cell_type": "code",
   "execution_count": 63,
   "id": "f46ea801-8baa-4a27-8b9c-0e06e9cc321c",
   "metadata": {},
   "outputs": [
    {
     "data": {
      "text/plain": [
       "5"
      ]
     },
     "execution_count": 63,
     "metadata": {},
     "output_type": "execute_result"
    }
   ],
   "source": [
    "n=75869\n",
    "import math \n",
    "math.ceil(math.log10(n))"
   ]
  },
  {
   "cell_type": "markdown",
   "id": "4f3cb02b-a1db-4a6c-a11c-afe853f2e1af",
   "metadata": {},
   "source": [
    "#### Show that 0.1 + 0.2 == 0.3"
   ]
  },
  {
   "cell_type": "code",
   "execution_count": 74,
   "id": "8366b2a2-96d4-4499-9bab-a8c7da2b9519",
   "metadata": {},
   "outputs": [
    {
     "data": {
      "text/plain": [
       "True"
      ]
     },
     "execution_count": 74,
     "metadata": {},
     "output_type": "execute_result"
    }
   ],
   "source": [
    "10*0.1+10*0.2==10*0.3"
   ]
  },
  {
   "cell_type": "markdown",
   "id": "327183e0-19f5-401a-ba36-899b440530b5",
   "metadata": {
    "tags": []
   },
   "source": [
    "#### Integer reversion"
   ]
  },
  {
   "cell_type": "markdown",
   "id": "bf23d0cd-7763-4958-b092-fdddf532d989",
   "metadata": {},
   "source": [
    "Reverse a given integer. For example if the input of the algorithm is 1234 then the output should be 4321."
   ]
  },
  {
   "cell_type": "code",
   "execution_count": 90,
   "id": "d2901a7d-d262-4a93-8d95-76d044397769",
   "metadata": {},
   "outputs": [],
   "source": [
    "i = 12340"
   ]
  },
  {
   "cell_type": "code",
   "execution_count": 91,
   "id": "435d4157-6fbc-4432-b2e7-cb0644004265",
   "metadata": {},
   "outputs": [],
   "source": [
    "\n",
    "def my_int_reverse(i):\n",
    "  rev_i=0\n",
    "  lenn=math.ceil(math.log10(i))\n",
    "  for t in range(1,lenn+1):\n",
    "    u=i%10\n",
    "    rev_i=rev_i+u*10**(lenn-t)\n",
    "    i=int((i-u)/10)\n",
    "  return(rev_i)\n"
   ]
  },
  {
   "cell_type": "code",
   "execution_count": 92,
   "id": "255e89c7-dde8-4118-914e-6df6f24e1494",
   "metadata": {},
   "outputs": [
    {
     "name": "stdout",
     "output_type": "stream",
     "text": [
      "4321\n"
     ]
    }
   ],
   "source": [
    "assert(my_int_reverse(i) == 4321)\n",
    "print(my_int_reverse(i))"
   ]
  },
  {
   "cell_type": "markdown",
   "id": "66d42630-bd9d-4140-b127-d697a0c5d4b2",
   "metadata": {},
   "source": [
    "### Datas structures & Loops"
   ]
  },
  {
   "cell_type": "markdown",
   "id": "6228b0f3-5f16-470a-970b-72361cc1a5a8",
   "metadata": {
    "tags": []
   },
   "source": [
    "#### Create a new list from a two list using the following condition"
   ]
  },
  {
   "cell_type": "markdown",
   "id": "3295fd22-eac0-4a49-b0ec-abb8f69e84c5",
   "metadata": {},
   "source": [
    "Given a two list of numbers, write a program to create a new list such that the new list should contain odd numbers from the first list and even numbers from the second list.  \n",
    "Solve via:\n",
    "* Looping\n",
    "* List comprehension"
   ]
  },
  {
   "cell_type": "code",
   "execution_count": 94,
   "id": "34325440-f114-415d-bb39-24a95f48ebe8",
   "metadata": {},
   "outputs": [],
   "source": [
    "list1 = [10, 20, 25, 30, 35]\n",
    "list2 = [40, 45, 60, 75, 90]"
   ]
  },
  {
   "cell_type": "code",
   "execution_count": 95,
   "id": "7b9d07d7-4efb-47b3-a727-ae3513a73c53",
   "metadata": {},
   "outputs": [
    {
     "data": {
      "text/plain": [
       "[25, 35, 40, 60, 90]"
      ]
     },
     "execution_count": 95,
     "metadata": {},
     "output_type": "execute_result"
    }
   ],
   "source": [
    "#looping\n",
    "list3=list()\n",
    "for i in list1:\n",
    "    if i%2:\n",
    "        list3.append(i)\n",
    "for i in list2:\n",
    "    if not i%2:\n",
    "        list3.append(i)        \n",
    "list3"
   ]
  },
  {
   "cell_type": "code",
   "execution_count": 96,
   "id": "c53e55c9-9d0b-4c00-aa42-b7889336a71a",
   "metadata": {},
   "outputs": [
    {
     "data": {
      "text/plain": [
       "[25, 35, 40, 60, 90]"
      ]
     },
     "execution_count": 96,
     "metadata": {},
     "output_type": "execute_result"
    }
   ],
   "source": [
    "#List comprehension\n",
    "[i for i in list1 if i%2]+[i for i in list2 if not i%2]"
   ]
  },
  {
   "cell_type": "code",
   "execution_count": 97,
   "id": "a77062bf-6ab5-48dd-a212-21d5c617d089",
   "metadata": {},
   "outputs": [
    {
     "data": {
      "text/plain": [
       "[25, 35, 40, 60, 90]"
      ]
     },
     "execution_count": 97,
     "metadata": {},
     "output_type": "execute_result"
    }
   ],
   "source": [
    "#Also list comprehension\n",
    "[i for i in list1+list2 if (((list1+list2).index(i)<len(list1) and i%2)or(((list1+list2).index(i)>=len(list1) and not i%2)))]"
   ]
  },
  {
   "cell_type": "markdown",
   "id": "1485833f-a53f-498c-8077-d2ca9fb277f5",
   "metadata": {},
   "source": [
    "Expected Output:\n",
    "\n",
    "`result list: [25, 35, 40, 60, 90]`"
   ]
  },
  {
   "cell_type": "markdown",
   "id": "59ff829d-a54b-4eb7-a9b5-2b8864ae0c37",
   "metadata": {
    "tags": []
   },
   "source": [
    "#### Print list in reverse order using a loop"
   ]
  },
  {
   "cell_type": "markdown",
   "id": "fe468afd-e6ed-4036-a513-eab25e555cde",
   "metadata": {},
   "source": [
    "Use a loop without using list reversal. For example:\n",
    "```python\n",
    "list1 = [10, 20, 30, 40, 50]\n",
    "[Output]:\n",
    "    50\n",
    "    40\n",
    "    30\n",
    "    20\n",
    "    10\n",
    "```"
   ]
  },
  {
   "cell_type": "code",
   "execution_count": 98,
   "id": "50c8e7c4-f75a-4cb2-8f07-2709222e8426",
   "metadata": {},
   "outputs": [
    {
     "name": "stdout",
     "output_type": "stream",
     "text": [
      "50\n",
      "40\n",
      "30\n",
      "20\n",
      "10\n"
     ]
    }
   ],
   "source": [
    "list1 = [10, 20, 30, 40, 50]\n",
    "for i in range(len(list1)):\n",
    "    print(list1[len(list1)-i-1])"
   ]
  },
  {
   "cell_type": "markdown",
   "id": "a2320c44-505f-433b-a26d-af6a7757e125",
   "metadata": {
    "tags": []
   },
   "source": [
    "#### Find the intersection (common) of two sets and remove those elements from the first set"
   ]
  },
  {
   "cell_type": "code",
   "execution_count": 100,
   "id": "190d023f-f3fd-4c2d-866c-4fcc25504c17",
   "metadata": {},
   "outputs": [],
   "source": [
    "first_set = {23, 42, 65, 57, 78, 83, 29}\n",
    "second_set = {57, 83, 29, 67, 73, 43, 48}"
   ]
  },
  {
   "cell_type": "markdown",
   "id": "f5ecdf05-69fd-49f9-9daf-59f519b3f513",
   "metadata": {},
   "source": [
    "expected output:\n",
    "```\n",
    "Intersection is  {57, 83, 29}\n",
    "First Set after removing common element  {65, 42, 78, 23}\n",
    "```"
   ]
  },
  {
   "cell_type": "code",
   "execution_count": 101,
   "id": "d41cfe97-0a41-444d-a3fb-dea6142e9558",
   "metadata": {},
   "outputs": [
    {
     "name": "stdout",
     "output_type": "stream",
     "text": [
      "Intersection is {57, 83, 29}\n",
      "First Set after removing common element {65, 42, 78, 23}\n"
     ]
    }
   ],
   "source": [
    "Intersection=set()\n",
    "First_Set_after_removing_common_element=set()\n",
    "for i in first_set:\n",
    "    if i in second_set:\n",
    "     Intersection.add(i)\n",
    "    else:\n",
    "     First_Set_after_removing_common_element.add(i)   \n",
    "print(\"Intersection is\",Intersection)\n",
    "print(\"First Set after removing common element\",First_Set_after_removing_common_element)    "
   ]
  },
  {
   "cell_type": "markdown",
   "id": "97ed47f0-321e-4e35-bbf2-72c916c91076",
   "metadata": {
    "tags": []
   },
   "source": [
    "#### Union two sets"
   ]
  },
  {
   "cell_type": "code",
   "execution_count": 58,
   "id": "74432c50-ffc7-4f31-9d13-53f38a2c5933",
   "metadata": {},
   "outputs": [],
   "source": [
    "first_set = {23, 42, 65, 57, 78, 83, 29}\n",
    "second_set = {57, 83, 29, 67, 73, 43, 48}\n",
    "expected = {23, 29, 42, 43, 48, 57, 65, 67, 73, 78, 83}"
   ]
  },
  {
   "cell_type": "code",
   "execution_count": 102,
   "id": "f04e9d27-6003-4c08-9b82-efbe19ed5794",
   "metadata": {},
   "outputs": [
    {
     "data": {
      "text/plain": [
       "{23, 29, 42, 43, 48, 57, 65, 67, 73, 78, 83}"
      ]
     },
     "execution_count": 102,
     "metadata": {},
     "output_type": "execute_result"
    }
   ],
   "source": [
    "#It already exists\n",
    "first_set.union(second_set)"
   ]
  },
  {
   "cell_type": "code",
   "execution_count": 103,
   "id": "cb4ae00f-1a9c-4a11-8bbe-96a5fbdc1529",
   "metadata": {},
   "outputs": [
    {
     "data": {
      "text/plain": [
       "{23, 29, 42, 43, 48, 57, 65, 67, 73, 78, 83}"
      ]
     },
     "execution_count": 103,
     "metadata": {},
     "output_type": "execute_result"
    }
   ],
   "source": [
    "#Also\n",
    "set_union=first_set\n",
    "for i in second_set:\n",
    "    set_union.add(i)\n",
    "set_union"
   ]
  },
  {
   "cell_type": "markdown",
   "id": "6b866c41-ae97-43ae-a514-9fcd066bc31f",
   "metadata": {
    "tags": []
   },
   "source": [
    "#### Checks if one set is a subset or superset of another set. If found, delete all elements from that set"
   ]
  },
  {
   "cell_type": "markdown",
   "id": "fe2ebccd-3e5e-459e-bf43-f653e7595a39",
   "metadata": {},
   "source": [
    "For example:"
   ]
  },
  {
   "cell_type": "code",
   "execution_count": 63,
   "id": "670410b7-f1e4-48ce-aae6-292d3d5229d4",
   "metadata": {},
   "outputs": [],
   "source": [
    "first_set = {27, 43, 34}\n",
    "second_set = {34, 93, 22, 27, 43, 53, 48}"
   ]
  },
  {
   "cell_type": "markdown",
   "id": "60e28c50-a8bf-4e17-b912-1ad226c99ace",
   "metadata": {},
   "source": [
    "```\n",
    "\n",
    "First set is subset of second set - True\n",
    "Second set is subset of First set -  False\n",
    "\n",
    "First set is Super set of second set -  False\n",
    "Second set is Super set of First set -  True\n",
    "\n",
    "First Set  set()\n",
    "Second Set  {67, 73, 43, 48, 83, 57, 29}\n",
    "```"
   ]
  },
  {
   "cell_type": "code",
   "execution_count": 104,
   "id": "0b3f7980-1daf-4f62-8c71-61256d371356",
   "metadata": {},
   "outputs": [
    {
     "name": "stdout",
     "output_type": "stream",
     "text": [
      "First set is subset of second set - True\n",
      "Second set is subset of First set - False\n",
      "\n",
      "First set is subset of second set - False\n",
      "Second set is subset of First set - True\n",
      "\n",
      "First Set set()\n",
      "Second_set {48, 93, 53, 22}\n"
     ]
    }
   ],
   "source": [
    "\n",
    "first_set = {27, 43, 34}\n",
    "second_set = {34, 93, 22, 27, 43, 53, 48}\n",
    "def is_subset(s1,s2):\n",
    "    is_sub=True\n",
    "    for i in s1:\n",
    "     if i in s2:\n",
    "        pass\n",
    "     else:\n",
    "        is_sub=False\n",
    "    return is_sub\n",
    "#Not actually necessary, just good form\n",
    "def is_superset(s1,s2):\n",
    "    return is_subset(s2,s1)\n",
    "#printing\n",
    "print(\"First set is subset of second set -\",is_subset(first_set,second_set))\n",
    "print(\"Second set is subset of First set -\",is_subset(second_set,first_set))\n",
    "print(\"\")\n",
    "print(\"First set is subset of second set -\",is_superset(first_set,second_set))\n",
    "print(\"Second set is subset of First set -\",is_superset(second_set,first_set))\n",
    "print(\"\")\n",
    "print(\"First Set\",first_set-second_set)\n",
    "print(\"Second_set\",second_set-first_set)"
   ]
  },
  {
   "cell_type": "markdown",
   "id": "64a61279-e0d0-44ec-95ed-7f522da33982",
   "metadata": {
    "tags": []
   },
   "source": [
    "#### Add a list of elements to a set"
   ]
  },
  {
   "cell_type": "code",
   "execution_count": 106,
   "id": "fef029ba-7682-479c-a442-085c7dc7e66c",
   "metadata": {},
   "outputs": [],
   "source": [
    "sample_set = {\"Yellow\", \"Orange\", \"Black\"}\n",
    "sample_list = [\"Blue\", \"Green\", \"Red\"]"
   ]
  },
  {
   "cell_type": "markdown",
   "id": "7eb957d4-c6db-4d46-bc54-e05580fc56da",
   "metadata": {},
   "source": [
    "Expected Outcome (yours might be in a different order): `{'Green', 'Yellow', 'Black', 'Orange', 'Red', 'Blue'}`"
   ]
  },
  {
   "cell_type": "code",
   "execution_count": 107,
   "id": "7f2748fe-d7c1-406d-bbf0-eada9ab3fb1c",
   "metadata": {},
   "outputs": [
    {
     "data": {
      "text/plain": [
       "{'Black', 'Blue', 'Green', 'Orange', 'Red', 'Yellow'}"
      ]
     },
     "execution_count": 107,
     "metadata": {},
     "output_type": "execute_result"
    }
   ],
   "source": [
    "sample_set.union(sample_list)"
   ]
  },
  {
   "cell_type": "markdown",
   "id": "ad6201b4-5e15-4506-aced-e1858cd36430",
   "metadata": {
    "tags": []
   },
   "source": [
    "#### Update the first set with items that don’t exist in the second set"
   ]
  },
  {
   "cell_type": "code",
   "execution_count": 109,
   "id": "b85392b6-69b2-4fd8-8206-eff50a18355a",
   "metadata": {},
   "outputs": [],
   "source": [
    "set1 = {10, 20, 30}\n",
    "set2 = {20, 40, 50}"
   ]
  },
  {
   "cell_type": "markdown",
   "id": "d3a4b0f5-2441-49e5-9d62-45b494ea1d26",
   "metadata": {},
   "source": [
    "Expected Outcome: `set1 {10, 30}`"
   ]
  },
  {
   "cell_type": "code",
   "execution_count": 112,
   "id": "320086f9-8e50-4ff2-830b-a73504f72dbc",
   "metadata": {},
   "outputs": [
    {
     "name": "stdout",
     "output_type": "stream",
     "text": [
      "set1 {10, 30}\n"
     ]
    }
   ],
   "source": [
    "print(\"set1\",set1-set2)"
   ]
  },
  {
   "cell_type": "markdown",
   "id": "23d7c6e3-a3b8-4f16-bac5-152b59d02008",
   "metadata": {
    "tags": []
   },
   "source": [
    "####  Get Only unique items from two sets"
   ]
  },
  {
   "cell_type": "code",
   "execution_count": 183,
   "id": "a7122d3e-cf42-4d63-940f-7880a6cae2dd",
   "metadata": {},
   "outputs": [],
   "source": [
    "set1 = {10, 20, 30, 40, 50}\n",
    "set2 = {30, 40, 50, 60, 70}"
   ]
  },
  {
   "cell_type": "markdown",
   "id": "3ea92ab4-7e85-44bb-b868-410a67ecc4a3",
   "metadata": {},
   "source": [
    "Expected Outcome: `{70, 40, 10, 50, 20, 60, 30}`"
   ]
  },
  {
   "cell_type": "code",
   "execution_count": 185,
   "id": "d8812931-3150-43a8-b5b6-a332fae597d3",
   "metadata": {},
   "outputs": [
    {
     "data": {
      "text/plain": [
       "{10, 20, 30, 40, 50, 60, 70}"
      ]
     },
     "execution_count": 185,
     "metadata": {},
     "output_type": "execute_result"
    }
   ],
   "source": [
    "set1.union(set2)"
   ]
  },
  {
   "cell_type": "markdown",
   "id": "97a47f90-e19e-4327-a1d3-55c50f0c00ce",
   "metadata": {
    "tags": []
   },
   "source": [
    "####  Iterate a given list and check if a given element exists as a key’s value in a dictionary. If not, delete it from the list"
   ]
  },
  {
   "cell_type": "markdown",
   "id": "2b65ed0e-40a6-4489-9e3f-8f62b5d3321e",
   "metadata": {},
   "source": [
    "For example:"
   ]
  },
  {
   "cell_type": "code",
   "execution_count": 119,
   "id": "b75a1f16-ec97-405d-885f-655051066ef3",
   "metadata": {},
   "outputs": [],
   "source": [
    "roll_number = [47, 64, 69, 37, 76, 83, 95, 97]\n",
    "sample_dict = {'Jhon':47, 'Emma':69, 'Kelly':76, 'Jason':97}"
   ]
  },
  {
   "cell_type": "markdown",
   "id": "d7f41a49-4157-4d35-8677-0c11a3526161",
   "metadata": {},
   "source": [
    "Expected output: `After removing unwanted elements from list [47, 69, 76, 97]`"
   ]
  },
  {
   "cell_type": "code",
   "execution_count": 120,
   "id": "4fb781b4-8040-4918-bf58-6844939e7cb1",
   "metadata": {},
   "outputs": [
    {
     "data": {
      "text/plain": [
       "[47, 69, 76, 97]"
      ]
     },
     "execution_count": 120,
     "metadata": {},
     "output_type": "execute_result"
    }
   ],
   "source": [
    "updaed_roll_number=list()\n",
    "for i in roll_number:\n",
    "    if i in sample_dict.values():\n",
    "     updaed_roll_number.append(i)\n",
    "updaed_roll_number"
   ]
  },
  {
   "cell_type": "markdown",
   "id": "870f0f5b-3784-465c-8156-d3fa8b748eda",
   "metadata": {
    "tags": []
   },
   "source": [
    "#### Get all values from the dictionary and add them to a list but don’t add duplicates"
   ]
  },
  {
   "cell_type": "code",
   "execution_count": 180,
   "id": "b495f598-9b31-456c-880c-0ba9de8bec82",
   "metadata": {},
   "outputs": [],
   "source": [
    "speed = {'jan': 47, 'feb': 52, 'march': 47, 'April': 44, 'May': 52, 'June': 53, 'july': 54, 'Aug': 44, 'Sept': 54}"
   ]
  },
  {
   "cell_type": "markdown",
   "id": "fcb40d39-afbe-4f86-ab5d-b7ab694cc86c",
   "metadata": {},
   "source": [
    "Expected Outcome: `[47, 52, 44, 53, 54]`"
   ]
  },
  {
   "cell_type": "code",
   "execution_count": 181,
   "id": "cb58cc05-e940-43df-a5f9-84624f7f2929",
   "metadata": {
    "tags": []
   },
   "outputs": [
    {
     "data": {
      "text/plain": [
       "[44, 47, 52, 53, 54]"
      ]
     },
     "execution_count": 181,
     "metadata": {},
     "output_type": "execute_result"
    }
   ],
   "source": [
    "list(set(speed.values()))"
   ]
  },
  {
   "cell_type": "markdown",
   "id": "ecaf11bd-5159-4b56-b2ea-5abc4ce91df8",
   "metadata": {
    "tags": []
   },
   "source": [
    "#### Convert two lists into a dictionary"
   ]
  },
  {
   "cell_type": "code",
   "execution_count": 122,
   "id": "501ccca6-d79c-4c19-b8e1-098b309b7c98",
   "metadata": {},
   "outputs": [],
   "source": [
    "keys = ['Ten', 'Twenty', 'Thirty']\n",
    "values = [10, 20, 30]"
   ]
  },
  {
   "cell_type": "markdown",
   "id": "e308118a-5201-41cd-8bf1-f6e5bf11ac25",
   "metadata": {},
   "source": [
    "Expected Outcome: `{'Ten': 10, 'Twenty': 20, 'Thirty': 30}`"
   ]
  },
  {
   "cell_type": "markdown",
   "id": "01badd46-8153-4c98-bb79-d9604bfe028f",
   "metadata": {},
   "source": [
    "Hint: use `zip()` and dict comprehension"
   ]
  },
  {
   "cell_type": "code",
   "execution_count": 123,
   "id": "14172834-4ce9-4502-abd9-615becd29e71",
   "metadata": {},
   "outputs": [
    {
     "data": {
      "text/plain": [
       "{'Ten': 10, 'Twenty': 20, 'Thirty': 30}"
      ]
     },
     "execution_count": 123,
     "metadata": {},
     "output_type": "execute_result"
    }
   ],
   "source": [
    "dict(zip(keys,values))"
   ]
  },
  {
   "cell_type": "markdown",
   "id": "a47f94eb-4ce6-499a-b3ee-cdb61a194f98",
   "metadata": {
    "tags": []
   },
   "source": [
    "#### Merge two Python dictionaries into one"
   ]
  },
  {
   "cell_type": "code",
   "execution_count": 130,
   "id": "90984d60-c432-401f-8e16-e78ea21f70a3",
   "metadata": {},
   "outputs": [],
   "source": [
    "dict1 = {'Ten': 10, 'Twenty': 20, 'Thirty': 30}\n",
    "dict2 = {'Thirty': 30, 'Fourty': 40, 'Fifty': 50}"
   ]
  },
  {
   "cell_type": "markdown",
   "id": "bd0f6d3a-fde8-4e91-a7b7-16e28ca2c7e3",
   "metadata": {},
   "source": [
    "Expected Outcome: `{'Ten': 10, 'Twenty': 20, 'Thirty': 30, 'Fourty': 40, 'Fifty': 50}`"
   ]
  },
  {
   "cell_type": "code",
   "execution_count": 132,
   "id": "fb363f8f-3e29-411c-a93b-9ad8c18ce793",
   "metadata": {},
   "outputs": [
    {
     "data": {
      "text/plain": [
       "{'Ten': 10, 'Twenty': 20, 'Thirty': 30, 'Fourty': 40, 'Fifty': 50}"
      ]
     },
     "execution_count": 132,
     "metadata": {},
     "output_type": "execute_result"
    }
   ],
   "source": [
    "dict3=dict1.copy()\n",
    "dict3.update(dict2)\n",
    "dict3"
   ]
  },
  {
   "cell_type": "markdown",
   "id": "65bfe033-01d9-42bb-9bf2-8d6b00649ad6",
   "metadata": {},
   "source": [
    "Hints: use `.copy()` and `.update()` method of dict. "
   ]
  },
  {
   "cell_type": "markdown",
   "id": "bc513fdd-416a-4e2e-9c07-1711afe55d0f",
   "metadata": {},
   "source": [
    "#### Print the value of key ‘history’ from the below dict"
   ]
  },
  {
   "cell_type": "code",
   "execution_count": 134,
   "id": "bf1a9de4-b996-4767-a7c0-1dcd5e097b0a",
   "metadata": {},
   "outputs": [],
   "source": [
    "sampleDict = {\n",
    "    \"class\": {\n",
    "        \"student\": {\n",
    "            \"name\": \"Mike\",\n",
    "            \"marks\": {\n",
    "                \"physics\": 70,\n",
    "                \"history\": 80\n",
    "            }\n",
    "        }\n",
    "    }\n",
    "}"
   ]
  },
  {
   "cell_type": "markdown",
   "id": "4a95d9b8-ddbc-41cb-92d4-f14d53055425",
   "metadata": {},
   "source": [
    "Expected Outcome: `80`"
   ]
  },
  {
   "cell_type": "code",
   "execution_count": 135,
   "id": "7212fc19-9593-495f-8114-4bbc013da118",
   "metadata": {},
   "outputs": [
    {
     "data": {
      "text/plain": [
       "80"
      ]
     },
     "execution_count": 135,
     "metadata": {},
     "output_type": "execute_result"
    }
   ],
   "source": [
    "sampleDict['class']['student']['marks']['history']"
   ]
  },
  {
   "cell_type": "markdown",
   "id": "1f346c1d-8f0c-48ca-98bb-9718f6471094",
   "metadata": {
    "tags": []
   },
   "source": [
    "#### Delete a list of keys from a dictionary"
   ]
  },
  {
   "cell_type": "code",
   "execution_count": 137,
   "id": "ab95c867-7d92-48c1-84ce-55e0e34b7398",
   "metadata": {},
   "outputs": [],
   "source": [
    "sample_dict = {\n",
    "    \"name\": \"Kelly\",\n",
    "    \"age\": 25,\n",
    "    \"salary\": 8000,\n",
    "    \"city\": \"New york\"\n",
    "}\n",
    "\n",
    "# Keys to remove\n",
    "keys = [\"name\", \"salary\"]"
   ]
  },
  {
   "cell_type": "markdown",
   "id": "cc98df57-5e00-41a5-8d5a-efdf7a935283",
   "metadata": {},
   "source": [
    "Expected Outcome: `{'city': 'New york', 'age': 25}`"
   ]
  },
  {
   "cell_type": "code",
   "execution_count": 138,
   "id": "13c47dee-a7d3-4160-b46c-5c8e64fd0b0a",
   "metadata": {},
   "outputs": [
    {
     "data": {
      "text/plain": [
       "{'age': 25, 'city': 'New york'}"
      ]
     },
     "execution_count": 138,
     "metadata": {},
     "output_type": "execute_result"
    }
   ],
   "source": [
    "for k in keys:\n",
    "  del sample_dict[k]\n",
    "sample_dict"
   ]
  },
  {
   "cell_type": "markdown",
   "id": "00a98353-851e-4867-bdc8-fd84caeab8cb",
   "metadata": {
    "tags": []
   },
   "source": [
    "#### Check if a key exists in a dictionary"
   ]
  },
  {
   "cell_type": "code",
   "execution_count": 140,
   "id": "92fc9e47-767c-456e-8bc3-e2f8bf050d94",
   "metadata": {},
   "outputs": [],
   "source": [
    "sample_dict = {'a': 100, 'b': 200, 'c': 300}\n",
    "key = 'a'"
   ]
  },
  {
   "cell_type": "markdown",
   "id": "87ec9ac1-d2f9-4a8c-9604-a3fce1971431",
   "metadata": {},
   "source": [
    "Expected Outcome: `a present in a dict`"
   ]
  },
  {
   "cell_type": "code",
   "execution_count": 142,
   "id": "df7c3024-4473-45dd-bc25-00a3d5a5bcf6",
   "metadata": {},
   "outputs": [
    {
     "name": "stdout",
     "output_type": "stream",
     "text": [
      "a present in a dict\n"
     ]
    }
   ],
   "source": [
    "if key in sample_dict.keys():\n",
    "    print(key,\"present in a dict\")\n",
    "else:\n",
    "    print(key,\"not present in a dict\")"
   ]
  },
  {
   "cell_type": "markdown",
   "id": "cae45f04-59c4-4ae4-8a0f-a934c910ce7d",
   "metadata": {},
   "source": [
    "#### Check if a key exists in a dictionary"
   ]
  },
  {
   "cell_type": "code",
   "execution_count": 143,
   "id": "b361ce28-be2d-4a55-a041-eb9ebbba74ce",
   "metadata": {},
   "outputs": [],
   "source": [
    "sample_dict = {'a': 100, 'b': 200, 'c': 300}\n",
    "val = 200"
   ]
  },
  {
   "cell_type": "code",
   "execution_count": 144,
   "id": "a8b57c9c-5de0-4b6e-a9e0-8e42d2b44221",
   "metadata": {},
   "outputs": [
    {
     "name": "stdout",
     "output_type": "stream",
     "text": [
      "200 present in a dict\n"
     ]
    }
   ],
   "source": [
    "# Check if a value exists in a dictionary\n",
    "if val in sample_dict.values():\n",
    "    print(val,\"present in a dict\")\n",
    "else:\n",
    "    print(val,\"not present in a dict\")"
   ]
  },
  {
   "cell_type": "markdown",
   "id": "684f5e61-9eb8-4503-9eb1-7b6f171ce883",
   "metadata": {},
   "source": [
    "Expected Outcome: `200 present in a dict`"
   ]
  },
  {
   "cell_type": "markdown",
   "id": "a5c09ca8-b826-4427-9b32-a95cf63325b8",
   "metadata": {},
   "source": [
    "#### Unpack the tuple into 4 variables"
   ]
  },
  {
   "cell_type": "code",
   "execution_count": 147,
   "id": "0fde611d-151b-4bbd-999c-87cad77004af",
   "metadata": {},
   "outputs": [],
   "source": [
    "tuple1 = (10, 20, 30, 40)"
   ]
  },
  {
   "cell_type": "markdown",
   "id": "946d8943-45d8-4662-89aa-47c784f03821",
   "metadata": {},
   "source": [
    "Expected Outcome:\n",
    "```\n",
    "tuple1 = (10, 20, 30, 40)\n",
    "# Your code\n",
    "print(a) # should print 10\n",
    "print(b) # should print 20\n",
    "print(c) # should print 30\n",
    "print(d) # should print 40\n",
    "```"
   ]
  },
  {
   "cell_type": "code",
   "execution_count": 149,
   "id": "fcc806f5-5c7d-4c21-8d66-a7d76e2c4c7f",
   "metadata": {},
   "outputs": [
    {
     "name": "stdout",
     "output_type": "stream",
     "text": [
      "10\n",
      "20\n",
      "30\n",
      "40\n"
     ]
    }
   ],
   "source": [
    "(a,b,c,d)=tuple1\n",
    "print(a) # should print 10\n",
    "print(b) # should print 20\n",
    "print(c) # should print 30\n",
    "print(d) # should print 40"
   ]
  },
  {
   "cell_type": "markdown",
   "id": "08b026a4-466d-41cc-bc9c-7fe8534e88c6",
   "metadata": {
    "tags": []
   },
   "source": [
    "#### Swap two tuples"
   ]
  },
  {
   "cell_type": "code",
   "execution_count": 151,
   "id": "d8907449-faaa-4a98-8586-d08e3b7c5e3e",
   "metadata": {},
   "outputs": [],
   "source": [
    "tuple1 = (11, 22)\n",
    "tuple2 = (99, 88)"
   ]
  },
  {
   "cell_type": "markdown",
   "id": "a532c5f4-59d9-49b3-bcce-9b9497417d32",
   "metadata": {},
   "source": [
    "Expected Outcome:\n",
    "```\n",
    "tuple1: (99, 88)\n",
    "tuple2: (11, 22)\n",
    "```"
   ]
  },
  {
   "cell_type": "code",
   "execution_count": 152,
   "id": "fdeffb32-6eee-4ece-aa74-7ea88ceb53ed",
   "metadata": {},
   "outputs": [
    {
     "name": "stdout",
     "output_type": "stream",
     "text": [
      "tuple1: (99, 88)\n",
      "tuple2: (11, 22)\n"
     ]
    }
   ],
   "source": [
    "tuple1,tuple2=tuple2,tuple1\n",
    "print(\"tuple1:\",tuple1)\n",
    "print(\"tuple2:\",tuple2)"
   ]
  },
  {
   "cell_type": "markdown",
   "id": "94afa40c-06fb-4c15-8105-a4015e5f6b96",
   "metadata": {},
   "source": [
    "#### Sort a tuple of tuples by 2nd item"
   ]
  },
  {
   "cell_type": "code",
   "execution_count": 153,
   "id": "720ec0a5-5ac3-4237-a2cf-1d1235f2c068",
   "metadata": {},
   "outputs": [],
   "source": [
    "tuple1 = (('a', 23),('b', 37),('c', 11), ('d',29))"
   ]
  },
  {
   "cell_type": "markdown",
   "id": "ad2a6e5e-063c-4137-8d83-94fe24657c37",
   "metadata": {},
   "source": [
    "Expected Outcome: `(('c', 11), ('a', 23), ('d', 29), ('b', 37))`\n"
   ]
  },
  {
   "cell_type": "code",
   "execution_count": 156,
   "id": "b14851c0-354d-4b39-ac73-3a405cde1ccb",
   "metadata": {},
   "outputs": [
    {
     "data": {
      "text/plain": [
       "(('c', 11), ('a', 23), ('d', 29), ('b', 37))"
      ]
     },
     "execution_count": 156,
     "metadata": {},
     "output_type": "execute_result"
    }
   ],
   "source": [
    "list_tuple1=list(tuple1)\n",
    "swap_count=34\n",
    "while swap_count>0:\n",
    "   swap_count=0\n",
    "   for i in range(len(tuple1)-1):\n",
    "     if list_tuple1[i][1]>list_tuple1[i+1][1]:\n",
    "       list_tuple1[i],list_tuple1[i+1]=list_tuple1[i+1],list_tuple1[i]\n",
    "       swap_count=swap_count+1\n",
    "sortedtuple1=tuple(list_tuple1)\n",
    "sortedtuple1"
   ]
  },
  {
   "cell_type": "markdown",
   "id": "d3c69624-45ac-4935-9901-6cb5492b77b8",
   "metadata": {
    "tags": []
   },
   "source": [
    "#### Check if all items in the tuple are the same"
   ]
  },
  {
   "cell_type": "code",
   "execution_count": 157,
   "id": "dad693a4-e8c4-4ecb-9635-7e165b1a5c6a",
   "metadata": {},
   "outputs": [],
   "source": [
    "tuple1 = (45, 45, 45, 45)"
   ]
  },
  {
   "cell_type": "markdown",
   "id": "8ce3d576-88a7-4bf6-90eb-ed9ca2c07c25",
   "metadata": {},
   "source": [
    "Hint: use `all()`"
   ]
  },
  {
   "cell_type": "code",
   "execution_count": 158,
   "id": "170b2eb7-9b78-488c-b96f-00d93b10d766",
   "metadata": {},
   "outputs": [
    {
     "data": {
      "text/plain": [
       "True"
      ]
     },
     "execution_count": 158,
     "metadata": {},
     "output_type": "execute_result"
    }
   ],
   "source": [
    "all([True for i in tuple1 if i==tuple1[0]])"
   ]
  },
  {
   "cell_type": "markdown",
   "id": "65fee107-9f69-400f-8754-20643cd13b95",
   "metadata": {},
   "source": [
    "### Functions"
   ]
  },
  {
   "cell_type": "markdown",
   "id": "471ff48a-0613-463c-acda-623732dd42b6",
   "metadata": {},
   "source": [
    "#### Create a function with variable length of arguments"
   ]
  },
  {
   "cell_type": "markdown",
   "id": "3b4e772b-75db-4350-9636-509f089cba52",
   "metadata": {},
   "source": [
    "Write a program to create function func1() to accept a variable length of arguments and print their value.  \n",
    "**Note**: Create a function in such a way that we can pass any number of arguments to this function, and the function should process them and display each argument’s value."
   ]
  },
  {
   "cell_type": "markdown",
   "id": "cbf586de-ea44-4403-b6ee-177782015db7",
   "metadata": {},
   "source": [
    "Expected output:"
   ]
  },
  {
   "cell_type": "markdown",
   "id": "4e697986-5bfb-4254-89bb-cfe08cb79449",
   "metadata": {},
   "source": [
    "```python\n",
    "# call function with 3 arguments\n",
    "func1(20, 40, 60)\n",
    "\n",
    "Printing values\n",
    "20\n",
    "40\n",
    "60\n",
    "\n",
    "# call function with 2 arguments\n",
    "func1(80, 100)\n",
    "\n",
    "Printing values\n",
    "80\n",
    "100\n"
   ]
  },
  {
   "cell_type": "code",
   "execution_count": 160,
   "id": "7a924076-ca31-4131-9209-02c9f71ed3d8",
   "metadata": {},
   "outputs": [
    {
     "name": "stdout",
     "output_type": "stream",
     "text": [
      "Printing values\n",
      "20\n",
      "40\n",
      "60\n",
      "Printing values\n",
      "80\n",
      "100\n"
     ]
    }
   ],
   "source": [
    "def func1(*arg):\n",
    "    print(\"Printing values\")\n",
    "    for i in arg:\n",
    "        print(i)\n",
    "func1(20, 40, 60)  \n",
    "func1(80, 100)  "
   ]
  },
  {
   "cell_type": "markdown",
   "id": "b55a2409-d3b4-4417-a4a0-837b5d65377b",
   "metadata": {},
   "source": [
    "#### Return multiple values from a function"
   ]
  },
  {
   "cell_type": "markdown",
   "id": "d0851de5-d8d9-40b2-a9be-2a4441111c37",
   "metadata": {},
   "source": [
    "Write a program to create function `calculation()` such that it can accept two variables and calculate addition and subtraction. Also, **it must return both addition and subtraction in a single return call**."
   ]
  },
  {
   "cell_type": "markdown",
   "id": "fb7c5b08-8625-419b-9942-e3347340f1bc",
   "metadata": {},
   "source": [
    "For example:\n",
    "```python\n",
    "def calculation(a, b):\n",
    "    # Your Code\n",
    "\n",
    "res = calculation(40, 10)\n",
    "print(res)\n",
    "50, 30\n",
    "```"
   ]
  },
  {
   "cell_type": "code",
   "execution_count": 161,
   "id": "5e28f717-4b03-4f13-be4c-e0e4f79743dd",
   "metadata": {},
   "outputs": [
    {
     "name": "stdout",
     "output_type": "stream",
     "text": [
      "(50, 30)\n"
     ]
    }
   ],
   "source": [
    "def calculation(a, b):\n",
    "    return(a+b,a-b)\n",
    "\n",
    "res = calculation(40, 10)\n",
    "print(res)"
   ]
  },
  {
   "cell_type": "markdown",
   "id": "756c0575-c248-4256-b78d-23123645e8cd",
   "metadata": {
    "tags": []
   },
   "source": [
    "#### Create a function with a default argument"
   ]
  },
  {
   "cell_type": "markdown",
   "id": "192628ec-ad11-446d-a076-e5d781398de4",
   "metadata": {},
   "source": [
    "Write a program to create a function show_employee() using the following conditions.\n",
    "\n",
    "* It should accept the employee’s name and salary and display both.\n",
    "* If the salary is missing in the function call then assign default value 9000 to salary"
   ]
  },
  {
   "cell_type": "markdown",
   "id": "d6b521ff-69db-4412-bf0f-bb0cf894e8ed",
   "metadata": {},
   "source": [
    "For example, if:\n",
    "```python  \n",
    "showEmployee(\"Ben\", 12000)\n",
    "showEmployee(\"Jessa\")\n",
    "```\n",
    "Then the expected output is:\n",
    "```python\n",
    "Name: Ben salary: 12000\n",
    "Name: Jessa salary: 9000\n",
    "```"
   ]
  },
  {
   "cell_type": "code",
   "execution_count": 162,
   "id": "9c10960d-c84c-4735-844b-3146f5569eed",
   "metadata": {},
   "outputs": [
    {
     "name": "stdout",
     "output_type": "stream",
     "text": [
      "Name: Ben\n",
      "salary: 12000\n",
      "Name: Jessa\n",
      "salary: 9000\n"
     ]
    }
   ],
   "source": [
    "def show_employee(*arg):\n",
    "    if len(arg)==2:\n",
    "     print(\"Name:\",arg[0])\n",
    "     print(\"salary:\",arg[1])\n",
    "    else:\n",
    "     print(\"Name:\",arg[0])  \n",
    "     print(\"salary:\",9000)\n",
    "\n",
    "show_employee(\"Ben\",12000)\n",
    "show_employee(\"Jessa\")"
   ]
  },
  {
   "cell_type": "markdown",
   "id": "03c4818a-c1d6-46a3-9442-eadc4f3d4fde",
   "metadata": {
    "tags": []
   },
   "source": [
    "#### Assign a different name to function and call it through the new name"
   ]
  },
  {
   "cell_type": "markdown",
   "id": "59b72afc-bf6e-4812-b51d-60483d871c07",
   "metadata": {},
   "source": [
    "Below is the function `display_student(name, age)`. Assign a new name show_tudent(name, age) to it and call it using the new name (without defining a new function!)."
   ]
  },
  {
   "cell_type": "code",
   "execution_count": 164,
   "id": "8912de70-07f1-4eaf-9dfb-016ef42e45c6",
   "metadata": {},
   "outputs": [],
   "source": [
    "def display_student(name, age):\n",
    "    print(name, age)"
   ]
  },
  {
   "cell_type": "code",
   "execution_count": 35,
   "id": "06236a88-f2da-498c-b537-04b56724014d",
   "metadata": {},
   "outputs": [
    {
     "name": "stdout",
     "output_type": "stream",
     "text": [
      "Emma 26\n"
     ]
    }
   ],
   "source": [
    "display_student(\"Emma\", 26)"
   ]
  },
  {
   "cell_type": "code",
   "execution_count": 167,
   "id": "b837d92a-9b2c-4cec-92a6-ac81efc8a2a1",
   "metadata": {},
   "outputs": [
    {
     "name": "stdout",
     "output_type": "stream",
     "text": [
      "Emma 26\n"
     ]
    }
   ],
   "source": [
    "show_student=display_student\n",
    "show_student(\"Emma\", 26)"
   ]
  },
  {
   "cell_type": "markdown",
   "id": "e5753b7a-63fb-462c-9c08-d0f4ab67b06d",
   "metadata": {},
   "source": [
    "Now make the following code: `show_student(name, age)` return the same output without a new function definition"
   ]
  },
  {
   "cell_type": "markdown",
   "id": "b5f63dad-9177-47ac-bedd-bdf31952ce5d",
   "metadata": {},
   "source": [
    "done"
   ]
  },
  {
   "cell_type": "markdown",
   "id": "78964e00-e7ea-4440-b74d-638b0aa72674",
   "metadata": {
    "tags": []
   },
   "source": [
    "### General programming Qs"
   ]
  },
  {
   "cell_type": "markdown",
   "id": "4b7b79d9-7a64-4d07-86d9-4759e7e7fcc6",
   "metadata": {},
   "source": [
    "In the drills below, **before (!) coding**, start by manually calculating some expected outputs and create assertions. The more, the better. Only then start coding! "
   ]
  },
  {
   "cell_type": "markdown",
   "id": "48271699-a4f9-4735-8f57-4fd12bd1e450",
   "metadata": {},
   "source": [
    "#### Calculate income tax for the given income by adhering to the below rules:"
   ]
  },
  {
   "attachments": {
    "94ab1430-0bb2-4eb8-869d-af30fa46b338.png": {
     "image/png": "[encoded data removed]"
    }
   },
   "cell_type": "markdown",
   "id": "6ce4756e-deef-48c7-9eca-534ee9427652",
   "metadata": {},
   "source": [
    "![image.png](attachment:94ab1430-0bb2-4eb8-869d-af30fa46b338.png)"
   ]
  },
  {
   "cell_type": "code",
   "execution_count": 171,
   "id": "cf2c5844-74f2-4d30-8e40-e5810e478d61",
   "metadata": {},
   "outputs": [],
   "source": [
    "level1=10000\n",
    "level2=30000\n",
    "level3=50000\n",
    "perc1=0.1\n",
    "perc2=0.15\n",
    "perc3=0.2\n",
    "perc4=0.25\n",
    "def incometax(x):\n",
    "    inc=0\n",
    "    if x<=level1:\n",
    "        inc=perc1*x\n",
    "    else:\n",
    "        if x<=level2:\n",
    "           inc=level1*perc1+(x-level1)*perc2\n",
    "        else:\n",
    "            if x<=level3:\n",
    "               inc=level1*perc1+(level2-level1)*perc2+(x-level2)*perc3\n",
    "            else:\n",
    "               inc=level1*perc1+(level2-level1)*perc2+(level3-level2)*perc3+(x-level3)*perc4 \n",
    " \n",
    "    return(inc) "
   ]
  },
  {
   "cell_type": "code",
   "execution_count": 172,
   "id": "b13bb6e1-f897-447f-b043-e72c033ea5ba",
   "metadata": {},
   "outputs": [],
   "source": [
    "#Manual calc\n",
    "assert incometax(11000)==1150\n",
    "assert incometax(60000)==10500\n",
    "assert incometax(40000)==6000"
   ]
  },
  {
   "cell_type": "markdown",
   "id": "4c5e9ba4-262f-4208-a4ed-17e00058d770",
   "metadata": {},
   "source": [
    "#### Print downward Half-Pyramid Pattern with Star (asterisk)"
   ]
  },
  {
   "cell_type": "markdown",
   "id": "a0a48a69-ab4b-4c5a-9178-fae272c22085",
   "metadata": {},
   "source": [
    "Print the following pattern:"
   ]
  },
  {
   "cell_type": "markdown",
   "id": "dd966411-baf2-4e3e-9161-7009172f500a",
   "metadata": {},
   "source": [
    "```python\n",
    "* * * * *  \n",
    "* * * *  \n",
    "* * *  \n",
    "* *  \n",
    "*\n",
    "```"
   ]
  },
  {
   "cell_type": "code",
   "execution_count": 174,
   "id": "c1022b87-8230-4f0e-80da-594378bfbe08",
   "metadata": {},
   "outputs": [
    {
     "name": "stdout",
     "output_type": "stream",
     "text": [
      "* * * * * \n",
      "* * * * \n",
      "* * * \n",
      "* * \n",
      "* \n"
     ]
    }
   ],
   "source": [
    "n=5\n",
    "for i in range(n):\n",
    "    print(\"* \"*(n-i))"
   ]
  },
  {
   "cell_type": "code",
   "execution_count": 175,
   "id": "f15d2828-a899-4404-a68a-7e10b0c2eafa",
   "metadata": {},
   "outputs": [],
   "source": [
    "# I am not sure, did i need to assert that as well?\n",
    "n=4\n",
    "c=\"g\"\n",
    "def g(n):\n",
    " c=\"\"\n",
    " for i in range(n):\n",
    "    a=\"* \"*(n-i)+\"\\n\"\n",
    "    c=c+a\n",
    " return(c)"
   ]
  },
  {
   "cell_type": "code",
   "execution_count": 176,
   "id": "622bb986-1d92-4061-a7e2-daf2f8c393f2",
   "metadata": {},
   "outputs": [],
   "source": [
    "assert '* * * * \\n* * * \\n* * \\n* \\n'==g(4)"
   ]
  },
  {
   "cell_type": "markdown",
   "id": "85221749-38a4-4931-b574-483422940edd",
   "metadata": {},
   "source": [
    "#### Write a program to display all prime numbers within a range"
   ]
  },
  {
   "cell_type": "markdown",
   "id": "9cb492ef-1cf9-406e-a2a8-72c0b1626cb2",
   "metadata": {},
   "source": [
    "A Prime Number is a number that cannot be made by multiplying other whole numbers. A prime number is a natural number greater than 1 that is not a product of two smaller natural numbers"
   ]
  },
  {
   "cell_type": "markdown",
   "id": "e1f5b317-bc6b-4f20-9bc8-9c38dfd44b68",
   "metadata": {},
   "source": [
    "Example:\n",
    "```python\n",
    "start = 25\n",
    "end = 50\n",
    "\n",
    "Prime numbers between 25 and 50 are:\n",
    "29\n",
    "31\n",
    "37\n",
    "41\n",
    "43\n",
    "47\n",
    "```"
   ]
  },
  {
   "cell_type": "code",
   "execution_count": 178,
   "id": "80e79430-ad19-4fec-bb46-f255ad6a79e6",
   "metadata": {},
   "outputs": [
    {
     "name": "stdout",
     "output_type": "stream",
     "text": [
      "29\n",
      "31\n",
      "37\n",
      "41\n",
      "43\n",
      "47\n"
     ]
    }
   ],
   "source": [
    "import math\n",
    "start=25\n",
    "end=50\n",
    "\n",
    "def primesinrange(start,end):\n",
    " def isprime(n):\n",
    "    isp=True\n",
    "    i=2\n",
    "    while i<=math.sqrt(n):\n",
    "     if n%i==0:\n",
    "      isp=False\n",
    "     i=i+1\n",
    "    return(isp)\n",
    " for i in range(start,end+1):\n",
    "    if isprime(i):\n",
    "       print(i)\n",
    "primesinrange(25,50)"
   ]
  },
  {
   "cell_type": "markdown",
   "id": "8748b366-2a65-41f6-a2be-9d0a06975ffd",
   "metadata": {
    "tags": []
   },
   "source": [
    "## Data Manipulation"
   ]
  },
  {
   "cell_type": "markdown",
   "id": "f36931a1-7c5e-4791-850a-54aa0d12f87c",
   "metadata": {},
   "source": [
    "### Data generation"
   ]
  },
  {
   "cell_type": "code",
   "execution_count": 186,
   "id": "19630bad-f47c-4ac7-97f3-8f779c55edd5",
   "metadata": {},
   "outputs": [],
   "source": [
    "import numpy as np"
   ]
  },
  {
   "cell_type": "code",
   "execution_count": 204,
   "id": "18d1ab56-4d94-4dad-a870-07d1e7772f5a",
   "metadata": {},
   "outputs": [],
   "source": [
    "arr_1 = 2 + 0.5 * np.random.randn(10)\n",
    "vec_1 = list(arr_1)\n",
    "arr_2 = 4 + 0.25 * np.random.randn(100)\n",
    "vec_2 = list(arr_2)"
   ]
  },
  {
   "cell_type": "code",
   "execution_count": 188,
   "id": "d3573dac-281a-48f9-9b09-6e544565dd61",
   "metadata": {},
   "outputs": [
    {
     "data": {
      "text/plain": [
       "[(1.7539709417214415, 4.0494022097882985),\n",
       " (1.1670641945531255, 4.073529924709474),\n",
       " (1.6667499641263723, 3.82162124429456),\n",
       " (1.3853546417098568, 3.743986578817383),\n",
       " (1.8036664432010834, 4.0854903493473245),\n",
       " (2.5186394477737646, 4.173229003904471),\n",
       " (2.358425703475141, 4.389919222766676),\n",
       " (1.247933323360233, 3.9271028475376575),\n",
       " (2.89535356402348, 3.877049813484139),\n",
       " (2.707027137907849, 4.290707697832661)]"
      ]
     },
     "execution_count": 188,
     "metadata": {},
     "output_type": "execute_result"
    }
   ],
   "source": [
    "list(zip(vec_1, vec_2))"
   ]
  },
  {
   "cell_type": "markdown",
   "id": "1c0e1796-be09-4c3e-b9dc-07787a3a56f0",
   "metadata": {
    "tags": []
   },
   "source": [
    "### Mean and STD"
   ]
  },
  {
   "cell_type": "markdown",
   "id": "63682fc5-188d-44fa-8a2b-6db99adf59fa",
   "metadata": {},
   "source": [
    "Using basic python syntax and modules, calculate the mean and standard devation of `vec_1` and `vec_2`."
   ]
  },
  {
   "cell_type": "code",
   "execution_count": 190,
   "id": "e88929d9-d2b7-4a2e-a943-f63044e5c6d1",
   "metadata": {},
   "outputs": [],
   "source": [
    "#sum\n",
    "def sum_vec(vec):\n",
    " sumv=0\n",
    " for i in range(len(vec)):\n",
    "        sumv=sumv+vec[i]\n",
    " return(sumv)\n",
    "#mean\n",
    "def mean_vec(vec):\n",
    "    meanv=sum_vec(vec)/len(vec)\n",
    "    return(meanv)\n",
    "#std\n",
    "def std_vec(vec):\n",
    "    m=mean_vec(vec)\n",
    "    sqm=[(i-m)**2 for i in vec]\n",
    "    std=np.sqrt(mean_vec(sqm))\n",
    "    return(std)\n"
   ]
  },
  {
   "cell_type": "code",
   "execution_count": 194,
   "id": "6060768e-39f4-439a-9fce-6ddf4b8a0e7e",
   "metadata": {},
   "outputs": [
    {
     "name": "stdout",
     "output_type": "stream",
     "text": [
      "mean vec_1   2.4894269544667784\n",
      "mean vec_2   4.013399821170573\n",
      "std vec_1    0.35639321648499056\n",
      "std vec_2    0.25973592410549884\n"
     ]
    }
   ],
   "source": [
    "#vec1,vec2\n",
    "print(\"mean vec_1  \",mean_vec(vec_1))\n",
    "print(\"mean vec_2  \",mean_vec(vec_2))\n",
    "print(\"std vec_1   \",std_vec(vec_1))\n",
    "print(\"std vec_2   \",std_vec(vec_2))"
   ]
  },
  {
   "cell_type": "markdown",
   "id": "8accd293-16a4-4914-9de7-69dadd98c160",
   "metadata": {},
   "source": [
    "### Dot product"
   ]
  },
  {
   "cell_type": "markdown",
   "id": "da0f209f-99aa-4625-b053-b7a99f6d4090",
   "metadata": {},
   "source": [
    "Using basic python syntax and modules, calculate the dot product (AKA scalar product) of `vec_1` and `vec_2`.\n",
    "\n",
    "Reminder: The Dot product between two vectors is defined as:\n",
    "\n",
    "$ \\textbf{p} \\cdot \\textbf{q} = \n",
    "\\begin{pmatrix} x_{1} & y_{1} & z_{1} \\end{pmatrix} \n",
    "\\begin{pmatrix} x_{2}\\\\ y_{2}\\\\ z_{2} \\end{pmatrix} = \\sum_i{p_i \\cdot q_i}$ "
   ]
  },
  {
   "cell_type": "code",
   "execution_count": 205,
   "id": "fae3df71-d2d6-4e43-a57d-c1793d1b244c",
   "metadata": {},
   "outputs": [
    {
     "data": {
      "text/plain": [
       "81.12098080371389"
      ]
     },
     "execution_count": 205,
     "metadata": {},
     "output_type": "execute_result"
    }
   ],
   "source": [
    "def dot_profuct_vec1_vec2(vec1,vec2):\n",
    "    return(sum_vec([vec1[i]*vec2[i] for i in range(len(vec1))]))\n",
    "dot_profuct_vec1_vec2(vec_1,vec_2)"
   ]
  },
  {
   "cell_type": "markdown",
   "id": "2948eb64-73e7-4783-bf4f-544854e9e4d8",
   "metadata": {},
   "source": [
    "### Correlation"
   ]
  },
  {
   "cell_type": "markdown",
   "id": "4398ea82-f423-46e9-ba4d-e175aeecae2a",
   "metadata": {},
   "source": [
    "Using basic python syntax and modules, calculate the [pearson correlation](https://en.wikipedia.org/wiki/Pearson_correlation_coefficient) between `vec_1` and `vec_2`:\n",
    "\n",
    "\\begin{equation}\n",
    "r_{xy} = \\frac{\\sum_{i=1}^{n}(p_i-\\bar{p})(q_i-\\bar{q})}{\\sqrt{\\sum_{i=1}^{n}(p_i-\\bar{p})^2}\\sqrt{\\sum_{i=1}^{n}(q_i-\\bar{q})^2}}\n",
    "\\end{equation}\n",
    "\n",
    "where $r_{pq}$ is the Pearson correlation coefficient between vectors $\\textbf{p}$ and $\\textbf{q}$, $n$ is the number of data points, $p_i$ and $q_i$ are the $i$-th observations of $\\textbf{p}$ and $\\textbf{q}$, and $\\bar{p}$ and $\\bar{q}$ are their respective means."
   ]
  },
  {
   "cell_type": "code",
   "execution_count": 206,
   "id": "0883eddd-59fa-42d3-a461-242ba7e7a56f",
   "metadata": {},
   "outputs": [
    {
     "data": {
      "text/plain": [
       "0.004657683178336197"
      ]
     },
     "execution_count": 206,
     "metadata": {},
     "output_type": "execute_result"
    }
   ],
   "source": [
    "def correlation_vec1_vec2(vec1,vec2):\n",
    "    m1=mean_vec(vec1)\n",
    "    m2=mean_vec(vec2)\n",
    "    vec11=[(i-m1) for i in vec1]\n",
    "    vec22=[(i-m1) for i in vec2]\n",
    "    corv=dot_profuct_vec1_vec2(vec11,vec22)/np.sqrt((dot_profuct_vec1_vec2(vec11,vec11))*(dot_profuct_vec1_vec2(vec22,vec22)))\n",
    "    return(corv)\n",
    "\n",
    "correlation_vec1_vec2(vec_1,vec_2)\n",
    "#Comment: Did not check that std!=0. Should have, though\n"
   ]
  },
  {
   "cell_type": "markdown",
   "id": "d13661b3-20c6-48c3-b236-86fa7d1297bb",
   "metadata": {},
   "source": [
    "### Matrix multiplication"
   ]
  },
  {
   "cell_type": "markdown",
   "id": "44785810-62b6-47b2-bbd1-f32b552806fb",
   "metadata": {},
   "source": [
    "Given the following two matrices, compute the product between them:\n",
    "* Implement with basic python\n",
    "* Implement with numpy\n",
    "* use the `%timeit` magic to compare the running time of both implementations"
   ]
  },
  {
   "cell_type": "code",
   "execution_count": 2,
   "id": "19c1af59-5cc2-43b8-a3cc-9295e54879b6",
   "metadata": {},
   "outputs": [],
   "source": [
    "matrix1 = [[1, 2, 3],\n",
    "           [4, 5, 6],\n",
    "           [7, 8, 9]]"
   ]
  },
  {
   "cell_type": "code",
   "execution_count": 3,
   "id": "8eb222b2-1876-45a5-9b4b-868edafb701f",
   "metadata": {},
   "outputs": [],
   "source": [
    "matrix2 = [[9, 8, 7],\n",
    "           [6, 5, 4],\n",
    "           [3, 2, 1]]"
   ]
  },
  {
   "cell_type": "code",
   "execution_count": 3,
   "id": "4bbb08dd-c941-40b4-95b1-fc97cd348083",
   "metadata": {},
   "outputs": [],
   "source": [
    "expected_result = [[30, 24, 18],\n",
    "                   [84, 69, 54],\n",
    "                   [138, 114, 90]]"
   ]
  },
  {
   "cell_type": "code",
   "execution_count": 5,
   "id": "dec8c79c-19a8-484b-a884-75c4b631ab36",
   "metadata": {},
   "outputs": [
    {
     "data": {
      "text/plain": [
       "[[30, 24, 18], [84, 69, 54], [138, 114, 90]]"
      ]
     },
     "execution_count": 5,
     "metadata": {},
     "output_type": "execute_result"
    }
   ],
   "source": [
    "def matrix_mult(mat1,mat2):\n",
    "  prod=list()\n",
    "  for i in range(len(mat1)):                    #len(mat1) = row number in mat1 \n",
    "     ithlineinproduct =list()\n",
    "     for j in range(len(mat2[0])):               #len(mat2[0]) = column number in mat2 \n",
    "          e=0\n",
    "          for k in range(len(mat1[0])):          #len(mat2) = row number in mat2=col number in mat1\n",
    "               e=e+mat1[i][k]*mat2[k][j]\n",
    "          ithlineinproduct.append(e)\n",
    "     prod.append(ithlineinproduct)   \n",
    "  return(prod)   \n",
    "matrix_mult(matrix1,matrix2)"
   ]
  },
  {
   "cell_type": "code",
   "execution_count": 7,
   "id": "8ee9e6ea-68d7-416f-9556-8a7f2b6f4a41",
   "metadata": {},
   "outputs": [],
   "source": [
    "import numpy as np"
   ]
  },
  {
   "cell_type": "code",
   "execution_count": 8,
   "id": "970ab1ef-97c5-44eb-b0b1-6c185ff86c5b",
   "metadata": {},
   "outputs": [
    {
     "data": {
      "text/plain": [
       "array([[ 30,  24,  18],\n",
       "       [ 84,  69,  54],\n",
       "       [138, 114,  90]])"
      ]
     },
     "execution_count": 8,
     "metadata": {},
     "output_type": "execute_result"
    }
   ],
   "source": [
    "np.matmul(matrix1,matrix2)"
   ]
  },
  {
   "cell_type": "code",
   "execution_count": null,
   "id": "beb10691-3d76-400c-a561-1d59d5c73a78",
   "metadata": {},
   "outputs": [
    {
     "name": "stdout",
     "output_type": "stream",
     "text": [
      "6.03 µs ± 24.3 ns per loop (mean ± std. dev. of 7 runs, 100000 loops each)\n"
     ]
    }
   ],
   "source": [
    "%%timeit \n",
    "def matrix_mult(mat1,mat2):\n",
    "  prod=list()\n",
    "  for i in range(len(mat1)):                    #len(mat1) = row number in mat1 \n",
    "     ithlineinproduct =list()\n",
    "     for j in range(len(mat2[0])):               #len(mat2[0]) = column number in mat2 \n",
    "          e=0\n",
    "          for k in range(len(mat1[0])):          #len(mat2) = row number in mat2=col number in mat1\n",
    "               e=e+mat1[i][k]*mat2[k][j]\n",
    "          ithlineinproduct.append(e)\n",
    "     prod.append(ithlineinproduct)   \n",
    "  return(prod)   \n",
    "matrix_mult(matrix1,matrix2)"
   ]
  },
  {
   "cell_type": "code",
   "execution_count": 10,
   "id": "e39fb6f1-d324-4e28-b16c-992c21d8f0de",
   "metadata": {},
   "outputs": [
    {
     "name": "stdout",
     "output_type": "stream",
     "text": [
      "5.46 µs ± 160 ns per loop (mean ± std. dev. of 7 runs, 100000 loops each)\n"
     ]
    }
   ],
   "source": [
    "%timeit np.matmul(matrix1,matrix2)"
   ]
  },
  {
   "cell_type": "markdown",
   "id": "9937748a-3d20-444b-a3dc-791debdf811c",
   "metadata": {},
   "source": [
    "#nice!"
   ]
  },
  {
   "cell_type": "markdown",
   "id": "8e9b3bc1-cf0f-4d26-93b8-f0443e228594",
   "metadata": {},
   "source": [
    "### Data reshaping"
   ]
  },
  {
   "cell_type": "markdown",
   "id": "cb07ebf7-4f6e-46d1-b04a-e853ffd8d6cd",
   "metadata": {},
   "source": [
    "Write a fuction `reshape(vector, shape)` that receives a list and returns a list of lists in the desired shape, but only if it fits!"
   ]
  },
  {
   "cell_type": "code",
   "execution_count": 14,
   "id": "cc6d9f92-a3b9-423b-b0a9-2a6eb38e797c",
   "metadata": {},
   "outputs": [],
   "source": [
    "l = [1, 2, 3, 4, 5, 6, 7, 8, 9, 10, 11, 12]"
   ]
  },
  {
   "cell_type": "markdown",
   "id": "191c4753-b8aa-4deb-be7f-be68f7b94278",
   "metadata": {},
   "source": [
    "For example:\n",
    "```python\n",
    "\n",
    "reshape(l, (3,4))\n",
    "[Output]:\n",
    "    [[ 1,  2,  3,  4],\n",
    "     [ 5,  6,  7,  8],\n",
    "     [ 9, 10, 11, 12]]\n",
    "\n",
    "rehsape(l, (4,3))\n",
    "[Output]:\n",
    "    [[ 1,  2,  3],\n",
    "     [ 4,  5,  6],\n",
    "     [ 7,  8,  9],\n",
    "     [10, 11, 12]]\n",
    "    \n",
    "reshape(l, (2,6))\n",
    "[Output]:\n",
    "    [[ 1,  2,  3,  4,  5,  6],\n",
    "     [ 7,  8,  9, 10, 11, 12]]\n",
    "```"
   ]
  },
  {
   "cell_type": "code",
   "execution_count": 15,
   "id": "37ad526e-f6d7-4e25-9465-29524fe28c37",
   "metadata": {
    "tags": []
   },
   "outputs": [
    {
     "name": "stdout",
     "output_type": "stream",
     "text": [
      "[[ 1  2  3  4]\n",
      " [ 5  6  7  8]\n",
      " [ 9 10 11 12]]\n"
     ]
    }
   ],
   "source": [
    "def reshape(vector, shape):\n",
    "    if shape[0]*shape[1]==len(vector):\n",
    "     rs=np.reshape(vector, shape)\n",
    "     print(rs)\n",
    "reshape(l, (3,4))    "
   ]
  },
  {
   "cell_type": "markdown",
   "id": "6406c34d-79dc-42cb-88aa-b94d9deeb7b0",
   "metadata": {
    "tags": []
   },
   "source": [
    "## Gradient decent"
   ]
  },
  {
   "cell_type": "markdown",
   "id": "69d9694d-efd1-44a3-ad11-2081be5bca5e",
   "metadata": {},
   "source": [
    "To be defined"
   ]
  },
  {
   "cell_type": "markdown",
   "id": "62582107-cdab-46d0-944d-e6dfa88f6601",
   "metadata": {},
   "source": [
    "## OOP design"
   ]
  },
  {
   "cell_type": "markdown",
   "id": "6660c8e9-7f11-4054-bc50-098e63712012",
   "metadata": {},
   "source": [
    "### Warm-up drill"
   ]
  },
  {
   "cell_type": "markdown",
   "id": "594d777d-9304-4129-971d-00060c100c0b",
   "metadata": {},
   "source": [
    "Suppose you're working on a program for a pet store, and you need to represent different kinds of pets. You decide to use object-oriented programming to model your solution. You start by creating a base class called Pet that has common attributes and methods, and then create two subclasses Dog and Cat that inherit from Pet and add their own unique attributes and methods.\n",
    "\n",
    "Implement in OOP the following attributes and methods:\n",
    "* Attributes: \n",
    "  * name, age, breed, food type, sound, height, weight. \n",
    "  * For cats only: color\n",
    "  * For dogs only: is_working_dog\n",
    "* Methods: \n",
    "  * `make_sound()` that will print the sounds attribute\n",
    "  * `is_overweight()` - calculates the pet BMI and returns True of False in case of Over/Under 25\n",
    "  * `get_nemesis()` - returns the name of the pet enemy"
   ]
  },
  {
   "cell_type": "code",
   "execution_count": 16,
   "id": "99602035-2e00-4c7e-8824-6969e6266f32",
   "metadata": {},
   "outputs": [],
   "source": [
    "#\n",
    "class Pet:\n",
    "    type = 'Animal'\n",
    "\n",
    "    def __init__(self, name, age, breed, food_type, sound, height, weight,nemesis):\n",
    "        self.name = name\n",
    "        self.age = age\n",
    "        self.breed = breed\n",
    "        self.food_type = food_type\n",
    "        self.sound = sound\n",
    "        self.height = height\n",
    "        self.weight = weight\n",
    "        self.nemesis =nemesis\n",
    "    def make_sound(self):\n",
    "        print(self.sound)\n",
    "    def is_overweight(self):\n",
    "        s=False\n",
    "        if (self.weight/self.height)>25:  #googled pet's BMI\n",
    "          s=True\n",
    "    def get_nemesis(self):\n",
    "        print(self.nemesis)\n",
    "#Cat\n",
    "class Cat(Pet):\n",
    "    \n",
    "    def __init__(self, name, age, breed, food_type, sound, height, weight,nemesis, color):\n",
    "        super().__init__(name, age, breed, food_type, sound, height, weight,nemesis)\n",
    "        self.color = color\n",
    "#Dog\n",
    "class Dog(Pet):\n",
    "    \n",
    "    def __init__(self, name, age, breed, food_type, sound, height, weight,nemesis, is_working_dog):\n",
    "        super().__init__(name, age, breed, food_type, sound, height, weight,nemesis)\n",
    "        self.is_working_dog = is_working_dog\n",
    "\n"
   ]
  },
  {
   "cell_type": "code",
   "execution_count": 18,
   "id": "7deb30dc-74cb-430c-8045-982aa8a3648b",
   "metadata": {},
   "outputs": [
    {
     "name": "stdout",
     "output_type": "stream",
     "text": [
      "Black and White\n",
      "Raww\n",
      "True\n",
      "Woof\n"
     ]
    }
   ],
   "source": [
    "#Examples\n",
    "kate=Cat(\"Kate\", 13, \"Cute\", \"Tuna\", \"Raww\", 23, 4,\"RSC\", \"Black and White\")\n",
    "print(kate.color)\n",
    "kate.make_sound()\n",
    "Nick=Dog(\"Nick\", 9, \"Mixed\", \"RC\", \"Woof\", 45, 14,\"RSC\", True)\n",
    "print(Nick.is_working_dog)\n",
    "Nick.make_sound()"
   ]
  },
  {
   "cell_type": "markdown",
   "id": "58c9d83a-e53a-4f38-910a-5a12ab5aec88",
   "metadata": {},
   "source": [
    "### Vehicels exercise"
   ]
  },
  {
   "cell_type": "markdown",
   "id": "3389d017-c5d4-4dbe-8c7a-e0643bce17ea",
   "metadata": {},
   "source": [
    "This OOP exercise covers questions on the following topics:\n",
    "\n",
    "* Class and Object creation\n",
    "* Instance variables and Methods, and Class level attributes\n",
    "* Model systems with class inheritance i.e., inherit From Other Classes\n",
    "* Parent Classes and Child Classes\n",
    "* Extend the functionality of Parent Classes using Child class\n",
    "* Object checking"
   ]
  },
  {
   "cell_type": "markdown",
   "id": "846c49bd-48a2-4c5a-9b11-656a48b71104",
   "metadata": {},
   "source": [
    "#### Create a Vehicle class without any variables and methods"
   ]
  },
  {
   "cell_type": "code",
   "execution_count": 22,
   "id": "1312817d-c7f1-4521-8233-15ac57b8010b",
   "metadata": {},
   "outputs": [],
   "source": [
    "class Vehicle:\n",
    "     pass"
   ]
  },
  {
   "cell_type": "markdown",
   "id": "90d51ef4-ffac-40c5-84b7-47f7ba43c187",
   "metadata": {},
   "source": [
    "#### Create a Class with instance attributes"
   ]
  },
  {
   "cell_type": "markdown",
   "id": "664e68b2-d744-42d1-8637-298cc008f06e",
   "metadata": {},
   "source": [
    "Write a Python program to create a Vehicle class with max_speed and mileage instance attributes.\n",
    "\n"
   ]
  },
  {
   "cell_type": "code",
   "execution_count": 27,
   "id": "146ddedf-33f2-43f3-bbea-ef9036e881d2",
   "metadata": {},
   "outputs": [],
   "source": [
    "class Vehicle:\n",
    "    type = 'Vehicle'\n",
    "\n",
    "    def __init__(self,max_speed, mileage):\n",
    "        self.max_speed = max_speed\n",
    "        self.mileage = mileage\n"
   ]
  },
  {
   "cell_type": "markdown",
   "id": "0486984b-ba8e-440c-b346-6784fd440567",
   "metadata": {},
   "source": [
    "#### Create a child class Bus that will inherit all of the variables and methods of the Vehicle class"
   ]
  },
  {
   "cell_type": "code",
   "execution_count": 28,
   "id": "a7c3f09c-95c8-492c-91f8-0d97ede3dab8",
   "metadata": {},
   "outputs": [],
   "source": [
    "class Bus(Vehicle):\n",
    "     pass"
   ]
  },
  {
   "cell_type": "markdown",
   "id": "fa2f587c-a2ff-424c-a945-030078b2f3fb",
   "metadata": {},
   "source": [
    "#### Override `__str__()` to control how the class will be printed "
   ]
  },
  {
   "cell_type": "markdown",
   "id": "37bed8f0-0c91-4f51-8434-b4196129ff34",
   "metadata": {},
   "source": [
    "Expected Outcome:\n",
    "\n",
    "```python\n",
    "School_bus = Bus(\"School Volvo\", 180, 12)\n",
    "print(bus)\n",
    "Vehicle Name: School Volvo Speed: 180 Mileage: 12\n",
    "```"
   ]
  },
  {
   "cell_type": "code",
   "execution_count": 6,
   "id": "b54a6731-3279-4cbe-9cbd-530a00f3e750",
   "metadata": {},
   "outputs": [
    {
     "name": "stdout",
     "output_type": "stream",
     "text": [
      "Vehicle Name: School Volvo Speed: 180 Mileage: 12\n"
     ]
    }
   ],
   "source": [
    "class Vehicle:                   # added name to class\n",
    "    type = 'Vehicle'\n",
    "\n",
    "    def __init__(self,name,max_speed, mileage):\n",
    "        self.name = name\n",
    "        self.max_speed = max_speed\n",
    "        self.mileage = mileage\n",
    "        \n",
    "        \n",
    "class Bus(Vehicle):               # same cod\n",
    "     pass  \n",
    "\n",
    "School_bus = Bus(\"School Volvo\", 180, 12)    \n",
    "print(\"Vehicle Name:\", \"School Volvo Speed:\", School_bus.max_speed ,\"Mileage:\", School_bus.mileage)   "
   ]
  },
  {
   "cell_type": "markdown",
   "id": "a0e0d7c4-680d-4216-a1b5-3be61208f101",
   "metadata": {},
   "source": [
    "#### Set vehicle capacity"
   ]
  },
  {
   "cell_type": "markdown",
   "id": "1ceb4868-b590-4058-90ad-1bef97b2830d",
   "metadata": {},
   "source": [
    "Give the capacity argument of `Bus.seating_capacity()` a default value of 50."
   ]
  },
  {
   "cell_type": "code",
   "execution_count": 8,
   "id": "13dc0a7f-7188-4177-b4ed-58d1b7be50a8",
   "metadata": {},
   "outputs": [],
   "source": [
    "class Bus(Vehicle):               \n",
    "     def seating_capacity(self,capasity=50):\n",
    "        print(capasity)"
   ]
  },
  {
   "cell_type": "code",
   "execution_count": 12,
   "id": "9b33f1d9-a9dd-4b9e-b315-df45dcb5d311",
   "metadata": {},
   "outputs": [
    {
     "name": "stdout",
     "output_type": "stream",
     "text": [
      "50\n"
     ]
    }
   ],
   "source": [
    "School_bus = Bus(\"School Volvo\", 180, 12)\n",
    "School_bus.seating_capacity()"
   ]
  },
  {
   "cell_type": "markdown",
   "id": "a8b5fc4c-96a0-4067-bb08-a86152293337",
   "metadata": {},
   "source": [
    "#### Define a property that gets the same value for every class instance (object)"
   ]
  },
  {
   "cell_type": "markdown",
   "id": "4e10baf7-50c9-47b1-baa0-34417b8f681b",
   "metadata": {},
   "source": [
    "Let's say `number_of_wheels`."
   ]
  },
  {
   "cell_type": "code",
   "execution_count": 18,
   "id": "808fac8e-cc4f-4c47-b3ac-7e996cef1ef3",
   "metadata": {},
   "outputs": [],
   "source": [
    "class Vehicle:                  \n",
    "    type = 'Vehicle'\n",
    "    number_of_wheels=4\n",
    "    \n",
    "    def __init__(self,name,max_speed, mileage):\n",
    "        self.name = name\n",
    "        self.max_speed = max_speed\n",
    "        self.mileage = mileage\n",
    "class Bus(Vehicle):               \n",
    "     def seating_capacity(self,capasity=50):\n",
    "        print(capasity)\n",
    "School_bus = Bus(\"School Volvo\", 180, 12)"
   ]
  },
  {
   "cell_type": "code",
   "execution_count": 19,
   "id": "32c95f69-8164-4942-aad4-023bafa47396",
   "metadata": {},
   "outputs": [
    {
     "data": {
      "text/plain": [
       "4"
      ]
     },
     "execution_count": 19,
     "metadata": {},
     "output_type": "execute_result"
    }
   ],
   "source": [
    "\n",
    "School_bus.number_of_wheels"
   ]
  },
  {
   "cell_type": "markdown",
   "id": "fb2849ec-c266-4661-855f-dfbe7753f26b",
   "metadata": {
    "tags": []
   },
   "source": [
    "#### Adding a `fare()` functionallity"
   ]
  },
  {
   "cell_type": "markdown",
   "id": "3a19d1a1-761c-4b11-ba9a-9f3df2260ab3",
   "metadata": {},
   "source": [
    "Create a Bus child class that inherits from the Vehicle class. The default fare charge of any vehicle is seating capacity * 100. If Vehicle is Bus instance, we need to add an extra 10% on full fare as a maintenance charge. So total fare for bus instance will become the final amount = total fare + 10% of the total fare."
   ]
  },
  {
   "cell_type": "markdown",
   "id": "5c845c22-edf0-4e10-8ac9-a0065b424d22",
   "metadata": {},
   "source": [
    "**Note**: The bus seating capacity is 50. so the final fare amount should be 5500. You need to override the fare() method of a Vehicle class in Bus class.\n",
    "\n"
   ]
  },
  {
   "cell_type": "code",
   "execution_count": 22,
   "id": "141fb5a4-1580-4fe6-b9b0-f44c44f519d2",
   "metadata": {},
   "outputs": [
    {
     "name": "stdout",
     "output_type": "stream",
     "text": [
      "School Bus fare: 5500.0\n"
     ]
    }
   ],
   "source": [
    "class Vehicle:\n",
    "    def __init__(self, name,capacity):\n",
    "        self.name = name\n",
    "        self.capacity = capacity\n",
    "\n",
    "    def fare(self):\n",
    "        return self.capacity * 100\n",
    "\n",
    "class Bus(Vehicle):\n",
    "    def fare(self):\n",
    "        return (super().fare())*1.1\n",
    "\n",
    "School_bus = Bus(\"School Volvo\", 50)\n",
    "print(\"School Bus fare:\", School_bus.fare())"
   ]
  },
  {
   "cell_type": "markdown",
   "id": "2908095d-3ac9-4b93-9cf5-6502095dd8cc",
   "metadata": {},
   "source": [
    "####  Determine if School_bus is also an instance of the Vehicle class"
   ]
  },
  {
   "cell_type": "markdown",
   "id": "f2a1fefa-3947-42cd-b5c2-316803648e9a",
   "metadata": {},
   "source": [
    "Given:\n",
    "```python\n",
    "school_bus = Bus(\"School Volvo\", 180, 12)\n",
    "```\n",
    "\n",
    "write code to check is school_bus is an instance of the vehicle class. Use the `isinstance()` function"
   ]
  },
  {
   "cell_type": "code",
   "execution_count": 23,
   "id": "837c183c-5b58-4ea7-bcbd-caa3bb7814fa",
   "metadata": {},
   "outputs": [
    {
     "data": {
      "text/plain": [
       "True"
      ]
     },
     "execution_count": 23,
     "metadata": {},
     "output_type": "execute_result"
    }
   ],
   "source": [
    "isinstance(School_bus, Vehicle)"
   ]
  },
  {
   "cell_type": "markdown",
   "id": "000274fa-022a-4be2-adbe-5372300d1ce3",
   "metadata": {},
   "source": [
    "## Appendix - Self learning!"
   ]
  },
  {
   "cell_type": "markdown",
   "id": "066bb6ac-b35e-4153-a7b5-762d8d62bbca",
   "metadata": {},
   "source": [
    "### Date and Time"
   ]
  },
  {
   "cell_type": "markdown",
   "id": "806fa038-a4e0-49cb-b6f1-446585bf93f0",
   "metadata": {},
   "source": [
    "In the below, you should read about the `datetime` package in python. use `dir()` and `help()` to list all it's methods and options, or use the online documentation (search for it!)"
   ]
  },
  {
   "cell_type": "markdown",
   "id": "df10382f-1d34-44d5-8007-be80b2f7e986",
   "metadata": {},
   "source": [
    "#### Print current date and time in Python"
   ]
  },
  {
   "cell_type": "code",
   "execution_count": 27,
   "id": "210d6914-1f41-4864-ac62-135039716a56",
   "metadata": {},
   "outputs": [
    {
     "name": "stdout",
     "output_type": "stream",
     "text": [
      "Current date and time: 28/02/2023 16:34:05\n"
     ]
    }
   ],
   "source": [
    "from datetime import datetime\n",
    "print(\"Current date and time:\",datetime.now().strftime(\"%d/%m/%Y %H:%M:%S\"))"
   ]
  },
  {
   "cell_type": "markdown",
   "id": "8c5903dc-39d3-4a7c-aaef-d8c54cb993df",
   "metadata": {},
   "source": [
    "#### Convert string into a datetime object"
   ]
  },
  {
   "cell_type": "code",
   "execution_count": 30,
   "id": "3631dec5-60ee-408f-ae4d-6c95074b2c93",
   "metadata": {},
   "outputs": [
    {
     "name": "stdout",
     "output_type": "stream",
     "text": [
      "2023-02-28 16:37:01\n",
      "<class 'datetime.datetime'>\n"
     ]
    }
   ],
   "source": [
    "from datetime import datetime\n",
    "\n",
    "date_time_string = '28/02/23 16:37:01'\n",
    "\n",
    "datetime_obj = datetime.strptime(date_time_string, '%d/%m/%y %H:%M:%S')\n",
    "print(datetime_obj)\n",
    "print(type(datetime_obj))\n",
    " "
   ]
  },
  {
   "cell_type": "markdown",
   "id": "198cae23-ac20-4c89-9fc8-fd6d401b8ec2",
   "metadata": {},
   "source": [
    "#### Subtract a week (7 days)  from a given date in Python"
   ]
  },
  {
   "cell_type": "code",
   "execution_count": 31,
   "id": "42c61c11-bb65-4922-953c-a49522c58ba6",
   "metadata": {},
   "outputs": [
    {
     "name": "stdout",
     "output_type": "stream",
     "text": [
      "A week before d_date:  2023-02-21\n"
     ]
    }
   ],
   "source": [
    "from datetime import datetime\n",
    "from datetime import timedelta\n",
    "d_date = '28/2/2023'\n",
    "d_Obj = datetime.strptime(d_date, '%d/%m/%Y')\n",
    "nd = 7\n",
    "a_week_before = d_Obj - timedelta(days=nd)\n",
    "print('A week before d_date: ', a_week_before.date())"
   ]
  },
  {
   "cell_type": "markdown",
   "id": "bf5a909c-ce33-4889-b3d7-34633c803d62",
   "metadata": {},
   "source": [
    "#### Print a date in a the following format"
   ]
  },
  {
   "cell_type": "markdown",
   "id": "9077aec4-0318-4030-95dc-22e3b2704ccc",
   "metadata": {},
   "source": [
    "`Day_name  Day_number  Month_name  Year`"
   ]
  },
  {
   "cell_type": "code",
   "execution_count": 33,
   "id": "32dab5be-1af7-4f5f-8d1b-8220bad2dd44",
   "metadata": {},
   "outputs": [
    {
     "name": "stdout",
     "output_type": "stream",
     "text": [
      "Day_name  Day_number  Month_name  Year\n",
      "Tuesday 25 February 2020\n"
     ]
    }
   ],
   "source": [
    "import calendar\n",
    "a_date = '25/2/2020'     \n",
    "a_Obj = datetime.strptime(d_date, '%d/%m/%Y')\n",
    "print(\"Day_name  Day_number  Month_name  Year\")\n",
    "print(calendar.day_name[a_Obj.weekday()], a_date.split(\"/\")[0], calendar.month_name[int(a_date.split(\"/\")[1])]  ,a_date.split(\"/\")[2])"
   ]
  },
  {
   "cell_type": "markdown",
   "id": "37d7849b-f0ab-4fe5-aca0-61a5e059c7a1",
   "metadata": {},
   "source": [
    "Expected Outcome: `Tuesday 25 February 2020`"
   ]
  },
  {
   "cell_type": "markdown",
   "id": "0d0939db-c437-4f6e-adf3-3d8ce3db763f",
   "metadata": {},
   "source": [
    "#### Find the day of the week of a given date"
   ]
  },
  {
   "cell_type": "code",
   "execution_count": 36,
   "id": "613e6577-776a-4238-8f77-7d77e79eef36",
   "metadata": {},
   "outputs": [],
   "source": [
    "given_date = datetime(2020, 7, 26)"
   ]
  },
  {
   "cell_type": "code",
   "execution_count": 37,
   "id": "0e025a56-83d3-49e2-bcf0-74ca9e676235",
   "metadata": {},
   "outputs": [
    {
     "data": {
      "text/plain": [
       "'Sunday'"
      ]
     },
     "execution_count": 37,
     "metadata": {},
     "output_type": "execute_result"
    }
   ],
   "source": [
    "calendar.day_name[given_date.weekday()]"
   ]
  },
  {
   "cell_type": "markdown",
   "id": "7c0ba7cb-9af0-4c75-92da-9cee02a2ee8e",
   "metadata": {},
   "source": [
    "Expected Outcome: `Sunday`"
   ]
  },
  {
   "cell_type": "markdown",
   "id": "2ace26f6-4769-40b9-ad09-afc0c5db32b6",
   "metadata": {},
   "source": [
    "#### Convert the following datetime into a string"
   ]
  },
  {
   "cell_type": "code",
   "execution_count": 39,
   "id": "2dc93646-c39e-4c9d-a1dc-c40b6feae141",
   "metadata": {},
   "outputs": [],
   "source": [
    "given_date = datetime(2020, 2, 25)"
   ]
  },
  {
   "cell_type": "code",
   "execution_count": 40,
   "id": "d53578c7-c53a-4e8d-8939-7d1935e4264a",
   "metadata": {},
   "outputs": [
    {
     "data": {
      "text/plain": [
       "'2020-02-25 00:00:00'"
      ]
     },
     "execution_count": 40,
     "metadata": {},
     "output_type": "execute_result"
    }
   ],
   "source": [
    "str(given_date)"
   ]
  },
  {
   "cell_type": "markdown",
   "id": "bf3f7b3c-5f05-4165-9422-3b0a39cb14a5",
   "metadata": {},
   "source": [
    "Expected Outcome: `\"2020-02-25 00:00:00\"`"
   ]
  },
  {
   "cell_type": "markdown",
   "id": "01978fcc-d462-4979-95ba-a9f73782dbe0",
   "metadata": {},
   "source": [
    "#### Calculate the date 4 months from the current date"
   ]
  },
  {
   "cell_type": "code",
   "execution_count": 41,
   "id": "19a0ff84-2c1a-47e1-8301-467fb293c491",
   "metadata": {},
   "outputs": [
    {
     "name": "stdout",
     "output_type": "stream",
     "text": [
      "2023-06-28\n"
     ]
    }
   ],
   "source": [
    "from dateutil.relativedelta import relativedelta\n",
    "print((datetime.now() + relativedelta(months=4)).date())"
   ]
  },
  {
   "cell_type": "markdown",
   "id": "8173a7cd-314b-4208-97c0-97cbf2fa0545",
   "metadata": {},
   "source": [
    "#current date!= given date, so I went with current. Hence not expected outcome. same same"
   ]
  },
  {
   "cell_type": "markdown",
   "id": "0d8f123e-bdf8-46b1-9a45-71a5b10c1084",
   "metadata": {},
   "source": [
    "Expected Outcome: `2020-06-25`"
   ]
  }
 ],
 "metadata": {
  "kernelspec": {
   "display_name": "Python 3 (ipykernel)",
   "language": "python",
   "name": "python3"
  },
  "language_info": {
   "codemirror_mode": {
    "name": "ipython",
    "version": 3
   },
   "file_extension": ".py",
   "mimetype": "text/x-python",
   "name": "python",
   "nbconvert_exporter": "python",
   "pygments_lexer": "ipython3",
   "version": "3.9.13"
  },
  "toc-autonumbering": true
 },
 "nbformat": 4,
 "nbformat_minor": 5
}
